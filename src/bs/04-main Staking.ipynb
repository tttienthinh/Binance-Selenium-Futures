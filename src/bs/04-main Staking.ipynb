{
 "cells": [
  {
   "cell_type": "code",
   "execution_count": 1,
   "metadata": {},
   "outputs": [],
   "source": [
    "from bs import BS, Keys\n",
    "from selenium import webdriver\n",
    "import time, requests, json"
   ]
  },
  {
   "cell_type": "code",
   "execution_count": 2,
   "metadata": {},
   "outputs": [
    {
     "name": "stdout",
     "output_type": "stream",
     "text": [
      "Enter when login is done : \n"
     ]
    },
    {
     "data": {
      "text/plain": [
       "''"
      ]
     },
     "execution_count": 2,
     "metadata": {},
     "output_type": "execute_result"
    }
   ],
   "source": [
    "b_driver = BS(\n",
    "    webdriver.Firefox(executable_path=\"/home/tttienthinh/Documents/Programmation/Bash/StartupApp/driver/geckodriver\"),\n",
    ")\n",
    "print(\"Make sure you have at least : \")\n",
    "print(\" 1 USDT in P2P transfert Binance to pay fees\")\n",
    "input(\"Enter when login is done : \")\n",
    "b_driver.stake_page()"
   ]
  },
  {
   "cell_type": "code",
   "execution_count": 23,
   "metadata": {
    "scrolled": false
   },
   "outputs": [
    {
     "data": {
      "text/plain": [
       "[{'token': 'SHIB', 'DAYS': 30}, {'token': 'SHIB', 'DAYS': 60}]"
      ]
     },
     "execution_count": 23,
     "metadata": {},
     "output_type": "execute_result"
    }
   ],
   "source": [
    "file = json.load(open(\"data.json\", \"r\"))\n",
    "file"
   ]
  },
  {
   "cell_type": "code",
   "execution_count": 6,
   "metadata": {
    "scrolled": false
   },
   "outputs": [
    {
     "name": "stdout",
     "output_type": "stream",
     "text": [
      "Enter token Name or just Enter to run :        Dot    \n",
      "Days Staking periods :  987  \n",
      "Enter token Name or just Enter to run : \n"
     ]
    },
    {
     "data": {
      "text/plain": [
       "[{'TOKEN': 'DOT', 'DAYS': 987}]"
      ]
     },
     "execution_count": 6,
     "metadata": {},
     "output_type": "execute_result"
    }
   ],
   "source": [
    "tokens = []\n",
    "while True:\n",
    "    token = input(\"Enter token Name or just Enter to run : \")\n",
    "    token = token.upper().replace(\" \", \"\")\n",
    "    if token == \"\":\n",
    "        break\n",
    "    else:\n",
    "        days = input(\"Days Staking periods : \")\n",
    "        tokens.append({\n",
    "            \"TOKEN\": token,\n",
    "            \"DAYS\": days\n",
    "        })\n",
    "tokens"
   ]
  },
  {
   "cell_type": "code",
   "execution_count": 9,
   "metadata": {},
   "outputs": [],
   "source": [
    "json.dump(tokens, open(\"data.json\", \"w\"))"
   ]
  },
  {
   "cell_type": "code",
   "execution_count": null,
   "metadata": {},
   "outputs": [],
   "source": [
    "def binance():\n",
    "    response = json.loads(requests.get(\n",
    "        \"https://www.binance.com/gateway-api/v1/friendly/pos/union?\\\n",
    "        pageSize=50&pageIndex=1&status=ALL).text)['data']\"\n",
    "    )\n",
    "    result = []\n",
    "    for item in response:\n",
    "        for asset in item[\"projects\"]:\n",
    "            if not asset[\"sellOut\"]:\n",
    "                result.append({\n",
    "                    \"asset\": asset[\"asset\"],\n",
    "                    \"duration\": asset[\"duration\"],\n",
    "                    \"APY\": str(round(float(asset[\"config\"][\"annualInterestRate\"]) * 100, 2))\n",
    "                })\n",
    "    return result"
   ]
  },
  {
   "cell_type": "code",
   "execution_count": 15,
   "metadata": {},
   "outputs": [
    {
     "data": {
      "text/plain": [
       "{'name': 'Bob', 'languages': 'English'}"
      ]
     },
     "execution_count": 15,
     "metadata": {},
     "output_type": "execute_result"
    }
   ],
   "source": [
    "print(f\"I will look to stake \\n {tokens}\")\n",
    "with open(\"data.txt\", \"r\") as f:\n",
    "    past_fees = float(f.read())\n",
    "    f.close()\n",
    "past_result = []\n",
    "while True:\n",
    "    print(time.asctime())\n",
    "    result = binance()\n",
    "    for data in result:\n",
    "        if data not in past_result:\n",
    "            asset = data['asset']\n",
    "            duration = data['duration']\n",
    "            apy = data['APY']\n",
    "            print(f\"Found new release \\\n",
    "            {asset} {duration} days {apy}% APY\")\n",
    "            \n",
    "            if {'TOKEN': asset, 'DAYS': duration} in tokens:\n",
    "                amount, fees = b_driver.stake()\n",
    "                print(f\"Staked Successfully !\")\n",
    "                done = b_driver.donation(fees + past fees)\n",
    "                if done:\n",
    "                    with open(\"data.txt\", \"w\") as f:\n",
    "                        f.write(\"0\")\n",
    "                    past_fees = 0\n",
    "                else:\n",
    "                    with open(\"data.txt\", \"w\") as f:\n",
    "                        f.write(str(fees))\n",
    "                    past_fees += fees \n",
    "            \n",
    "    \n",
    "    \n",
    "    \n",
    "    b_driver.stake_page()\n",
    "    time.sleep(600 - (time.time() % 600)) # Executing every 10 minutes\n",
    "    "
   ]
  },
  {
   "cell_type": "code",
   "execution_count": 4,
   "metadata": {},
   "outputs": [
    {
     "data": {
      "text/plain": [
       "'TEST'"
      ]
     },
     "execution_count": 4,
     "metadata": {},
     "output_type": "execute_result"
    }
   ],
   "source": [
    "\"test\".upper()"
   ]
  },
  {
   "cell_type": "code",
   "execution_count": 10,
   "metadata": {},
   "outputs": [
    {
     "data": {
      "text/plain": [
       "False"
      ]
     },
     "execution_count": 10,
     "metadata": {},
     "output_type": "execute_result"
    }
   ],
   "source": [
    "65 == \"65\""
   ]
  },
  {
   "cell_type": "code",
   "execution_count": null,
   "metadata": {},
   "outputs": [],
   "source": []
  }
 ],
 "metadata": {
  "kernelspec": {
   "display_name": "Scientist",
   "language": "python",
   "name": "scientist"
  },
  "language_info": {
   "codemirror_mode": {
    "name": "ipython",
    "version": 3
   },
   "file_extension": ".py",
   "mimetype": "text/x-python",
   "name": "python",
   "nbconvert_exporter": "python",
   "pygments_lexer": "ipython3",
   "version": "3.8.10"
  },
  "toc": {
   "base_numbering": 1,
   "nav_menu": {},
   "number_sections": true,
   "sideBar": true,
   "skip_h1_title": true,
   "title_cell": "Table of Contents",
   "title_sidebar": "Contents",
   "toc_cell": false,
   "toc_position": {},
   "toc_section_display": true,
   "toc_window_display": false
  },
  "varInspector": {
   "cols": {
    "lenName": 16,
    "lenType": 16,
    "lenVar": 40
   },
   "kernels_config": {
    "python": {
     "delete_cmd_postfix": "",
     "delete_cmd_prefix": "del ",
     "library": "var_list.py",
     "varRefreshCmd": "print(var_dic_list())"
    },
    "r": {
     "delete_cmd_postfix": ") ",
     "delete_cmd_prefix": "rm(",
     "library": "var_list.r",
     "varRefreshCmd": "cat(var_dic_list()) "
    }
   },
   "types_to_exclude": [
    "module",
    "function",
    "builtin_function_or_method",
    "instance",
    "_Feature"
   ],
   "window_display": false
  }
 },
 "nbformat": 4,
 "nbformat_minor": 4
}
