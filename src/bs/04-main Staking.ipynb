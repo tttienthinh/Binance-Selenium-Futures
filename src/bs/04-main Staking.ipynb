{
 "cells": [
  {
   "cell_type": "markdown",
   "metadata": {},
   "source": [
    "# Importation"
   ]
  },
  {
   "cell_type": "code",
   "execution_count": 1,
   "metadata": {},
   "outputs": [],
   "source": [
    "from bs import BS, Keys\n",
    "from selenium import webdriver\n",
    "import time, requests, json, pickle"
   ]
  },
  {
   "cell_type": "code",
   "execution_count": 2,
   "metadata": {},
   "outputs": [
    {
     "name": "stdout",
     "output_type": "stream",
     "text": [
      "Enter when login is done : \n"
     ]
    },
    {
     "data": {
      "text/plain": [
       "''"
      ]
     },
     "execution_count": 2,
     "metadata": {},
     "output_type": "execute_result"
    }
   ],
   "source": [
    "b_driver = BS(\n",
    "    webdriver.Firefox(executable_path=\"/home/tttienthinh/Documents/Programmation/Bash/StartupApp/driver/geckodriver\"),\n",
    ")\n",
    "print(\"Make sure you have at least : \")\n",
    "print(\" 1 USDT in P2P transfert Binance to pay fees\")\n",
    "input(\"Enter when login is done : \")\n",
    "b_driver.stake_page()"
   ]
  },
  {
   "cell_type": "code",
   "execution_count": 3,
   "metadata": {},
   "outputs": [],
   "source": [
    "pickle.dump({\"fees\": 0}, open(\"data.pkl\", \"wb\"))"
   ]
  },
  {
   "cell_type": "code",
   "execution_count": 5,
   "metadata": {},
   "outputs": [
    {
     "data": {
      "text/plain": [
       "{'fees': 0}"
      ]
     },
     "execution_count": 5,
     "metadata": {},
     "output_type": "execute_result"
    }
   ],
   "source": [
    "pickle.load(open(\"data.pkl\", \"rb\"))"
   ]
  },
  {
   "cell_type": "code",
   "execution_count": 23,
   "metadata": {
    "scrolled": false
   },
   "outputs": [
    {
     "data": {
      "text/plain": [
       "[{'token': 'SHIB', 'DAYS': 30}, {'token': 'SHIB', 'DAYS': 60}]"
      ]
     },
     "execution_count": 23,
     "metadata": {},
     "output_type": "execute_result"
    }
   ],
   "source": [
    "file = json.load(open(\"data.json\", \"r\"))\n",
    "file"
   ]
  },
  {
   "cell_type": "code",
   "execution_count": 6,
   "metadata": {
    "scrolled": false
   },
   "outputs": [
    {
     "name": "stdout",
     "output_type": "stream",
     "text": [
      "Enter token Name or just Enter to run :        Dot    \n",
      "Days Staking periods :  987  \n",
      "Enter token Name or just Enter to run : \n"
     ]
    },
    {
     "data": {
      "text/plain": [
       "[{'TOKEN': 'DOT', 'DAYS': 987}]"
      ]
     },
     "execution_count": 6,
     "metadata": {},
     "output_type": "execute_result"
    }
   ],
   "source": [
    "tokens = []\n",
    "while True:\n",
    "    token = input(\"Enter token Name or just Enter to run : \")\n",
    "    token = token.upper().replace(\" \", \"\")\n",
    "    if token == \"\":\n",
    "        break\n",
    "    else:\n",
    "        days = input(\"Days Staking periods : \")\n",
    "        tokens.append({\n",
    "            \"TOKEN\": token,\n",
    "            \"DAYS\": days\n",
    "        })\n",
    "tokens"
   ]
  },
  {
   "cell_type": "code",
   "execution_count": 9,
   "metadata": {},
   "outputs": [],
   "source": [
    "json.dump(tokens, open(\"data.json\", \"w\"))"
   ]
  },
  {
   "cell_type": "code",
   "execution_count": 10,
   "metadata": {},
   "outputs": [],
   "source": [
    "def binance():\n",
    "    response = json.loads(requests.get(\n",
    "        \"https://www.binance.com/gateway-api/v1/friendly/pos/union?\\\n",
    "        pageSize=50&pageIndex=1&status=ALL\").text)['data']\n",
    "    result = []\n",
    "    for item in response:\n",
    "        for asset in item[\"projects\"]:\n",
    "            if not asset[\"sellOut\"]:\n",
    "                result.append({\n",
    "                    \"asset\": asset[\"asset\"],\n",
    "                    \"duration\": asset[\"duration\"],\n",
    "                    \"APY\": str(round(float(asset[\"config\"][\"annualInterestRate\"]) * 100, 2))\n",
    "                })\n",
    "    return result"
   ]
  },
  {
   "cell_type": "code",
   "execution_count": 11,
   "metadata": {},
   "outputs": [
    {
     "data": {
      "text/plain": [
       "[{'asset': 'SHIB', 'duration': '30', 'APY': '3.67'},\n",
       " {'asset': 'SHIB', 'duration': '60', 'APY': '4.12'},\n",
       " {'asset': 'SHIB', 'duration': '90', 'APY': '5.25'},\n",
       " {'asset': 'INJ', 'duration': '30', 'APY': '3.67'},\n",
       " {'asset': 'INJ', 'duration': '60', 'APY': '4.12'},\n",
       " {'asset': 'INJ', 'duration': '90', 'APY': '5.62'},\n",
       " {'asset': 'GRT', 'duration': '30', 'APY': '13.56'},\n",
       " {'asset': 'GRT', 'duration': '60', 'APY': '15.26'},\n",
       " {'asset': 'KLAY', 'duration': '30', 'APY': '6.54'},\n",
       " {'asset': 'SAND', 'duration': '30', 'APY': '12.36'},\n",
       " {'asset': 'SAND', 'duration': '60', 'APY': '19.59'},\n",
       " {'asset': 'SAND', 'duration': '90', 'APY': '25.15'},\n",
       " {'asset': 'KSM', 'duration': '30', 'APY': '14.79'},\n",
       " {'asset': 'NEO', 'duration': '15', 'APY': '0.0'},\n",
       " {'asset': 'NEO', 'duration': '30', 'APY': '0.0'},\n",
       " {'asset': 'ATOM', 'duration': '30', 'APY': '9.47'},\n",
       " {'asset': 'SOL', 'duration': '30', 'APY': '9.2'},\n",
       " {'asset': 'NEAR', 'duration': '30', 'APY': '10.79'},\n",
       " {'asset': 'DODO', 'duration': '30', 'APY': '21.32'},\n",
       " {'asset': 'VET', 'duration': '15', 'APY': '0.0'},\n",
       " {'asset': 'BIFI', 'duration': '30', 'APY': '18.36'},\n",
       " {'asset': 'BIFI', 'duration': '60', 'APY': '22.69'},\n",
       " {'asset': 'MDX', 'duration': '30', 'APY': '25.43'},\n",
       " {'asset': '1INCH', 'duration': '15', 'APY': '4.34'},\n",
       " {'asset': '1INCH', 'duration': '30', 'APY': '5.6'},\n",
       " {'asset': '1INCH', 'duration': '60', 'APY': '6.7'},\n",
       " {'asset': 'TKO', 'duration': '30', 'APY': '8.23'},\n",
       " {'asset': 'TKO', 'duration': '60', 'APY': '10.23'}]"
      ]
     },
     "execution_count": 11,
     "metadata": {},
     "output_type": "execute_result"
    }
   ],
   "source": [
    "binance()"
   ]
  },
  {
   "cell_type": "code",
   "execution_count": 15,
   "metadata": {},
   "outputs": [
    {
     "data": {
      "text/plain": [
       "{'name': 'Bob', 'languages': 'English'}"
      ]
     },
     "execution_count": 15,
     "metadata": {},
     "output_type": "execute_result"
    }
   ],
   "source": [
    "print(f\"I will look to stake \\n {tokens}\")\n",
    "with open(\"data.txt\", \"r\") as f:\n",
    "    past_fees = float(f.read())\n",
    "    f.close()\n",
    "past_result = []\n",
    "while True:\n",
    "    print(time.asctime())\n",
    "    result = binance()\n",
    "    for data in result:\n",
    "        if data not in past_result:\n",
    "            asset = data['asset']\n",
    "            duration = data['duration']\n",
    "            apy = data['APY']\n",
    "            print(f\"Found new release \\\n",
    "            {asset} {duration} days {apy}% APY\")\n",
    "            \n",
    "            if {'TOKEN': asset, 'DAYS': duration} in tokens:\n",
    "                amount, fees = b_driver.stake()\n",
    "                print(f\"Staked Successfully !\")\n",
    "                done = b_driver.donation(fees + past_fees)\n",
    "                if done:\n",
    "                    with open(\"data.txt\", \"w\") as f:\n",
    "                        f.write(\"0\")\n",
    "                    past_fees = 0\n",
    "                else:\n",
    "                    with open(\"data.txt\", \"w\") as f:\n",
    "                        f.write(str(fees))\n",
    "                    past_fees += fees \n",
    "            \n",
    "    \n",
    "    \n",
    "    \n",
    "    b_driver.stake_page()\n",
    "    time.sleep(600 - (time.time() % 600)) # Executing every 10 minutes\n",
    "    "
   ]
  },
  {
   "cell_type": "code",
   "execution_count": 4,
   "metadata": {},
   "outputs": [
    {
     "data": {
      "text/plain": [
       "'TEST'"
      ]
     },
     "execution_count": 4,
     "metadata": {},
     "output_type": "execute_result"
    }
   ],
   "source": [
    "\"test\".upper()"
   ]
  },
  {
   "cell_type": "code",
   "execution_count": 10,
   "metadata": {},
   "outputs": [
    {
     "data": {
      "text/plain": [
       "False"
      ]
     },
     "execution_count": 10,
     "metadata": {},
     "output_type": "execute_result"
    }
   ],
   "source": [
    "65 == \"65\""
   ]
  }
 ],
 "metadata": {
  "kernelspec": {
   "display_name": "Scientist",
   "language": "python",
   "name": "scientist"
  },
  "language_info": {
   "codemirror_mode": {
    "name": "ipython",
    "version": 3
   },
   "file_extension": ".py",
   "mimetype": "text/x-python",
   "name": "python",
   "nbconvert_exporter": "python",
   "pygments_lexer": "ipython3",
   "version": "3.8.10"
  },
  "toc": {
   "base_numbering": 1,
   "nav_menu": {},
   "number_sections": true,
   "sideBar": true,
   "skip_h1_title": true,
   "title_cell": "Table of Contents",
   "title_sidebar": "Contents",
   "toc_cell": false,
   "toc_position": {},
   "toc_section_display": true,
   "toc_window_display": false
  },
  "varInspector": {
   "cols": {
    "lenName": 16,
    "lenType": 16,
    "lenVar": 40
   },
   "kernels_config": {
    "python": {
     "delete_cmd_postfix": "",
     "delete_cmd_prefix": "del ",
     "library": "var_list.py",
     "varRefreshCmd": "print(var_dic_list())"
    },
    "r": {
     "delete_cmd_postfix": ") ",
     "delete_cmd_prefix": "rm(",
     "library": "var_list.r",
     "varRefreshCmd": "cat(var_dic_list()) "
    }
   },
   "types_to_exclude": [
    "module",
    "function",
    "builtin_function_or_method",
    "instance",
    "_Feature"
   ],
   "window_display": false
  }
 },
 "nbformat": 4,
 "nbformat_minor": 4
}
