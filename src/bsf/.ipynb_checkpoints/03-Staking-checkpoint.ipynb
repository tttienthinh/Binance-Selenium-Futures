{
 "cells": [
  {
   "cell_type": "code",
   "execution_count": 1,
   "metadata": {},
   "outputs": [],
   "source": [
    "from bsf import BSF, Keys\n",
    "from selenium import webdriver"
   ]
  },
  {
   "cell_type": "code",
   "execution_count": 2,
   "metadata": {},
   "outputs": [],
   "source": [
    "b_driver = BSF(\n",
    "    webdriver.Firefox(executable_path=\"/home/tttienthinh/Documents/Programmation/Bash/StartupApp/driver/geckodriver\"),\n",
    ")"
   ]
  },
  {
   "cell_type": "code",
   "execution_count": 3,
   "metadata": {},
   "outputs": [],
   "source": [
    "b_driver.stake()"
   ]
  },
  {
   "cell_type": "code",
   "execution_count": null,
   "metadata": {},
   "outputs": [],
   "source": [
    "css-1hoieqs"
   ]
  },
  {
   "cell_type": "code",
   "execution_count": 4,
   "metadata": {},
   "outputs": [],
   "source": [
    "b_driver.driver.find_element_by_class_name(\"css-1hoieqs\").click()"
   ]
  },
  {
   "cell_type": "code",
   "execution_count": 7,
   "metadata": {},
   "outputs": [
    {
     "data": {
      "text/plain": [
       "'<selenium.webdriver.firefox.webelement.FirefoxWebElement (session=\"556e38e1-2973-433f-a5ea-dce75a63f6f6\", element=\"4707434c-a698-42fa-a0ae-8badd62b71cc\")>'"
      ]
     },
     "execution_count": 7,
     "metadata": {},
     "output_type": "execute_result"
    }
   ],
   "source": [
    "str(b_driver.driver.find_element_by_class_name(\"css-vurnku\"))\n"
   ]
  },
  {
   "cell_type": "code",
   "execution_count": 9,
   "metadata": {},
   "outputs": [
    {
     "data": {
      "text/plain": [
       "'Expand all 64 Locked Staking products'"
      ]
     },
     "execution_count": 9,
     "metadata": {},
     "output_type": "execute_result"
    }
   ],
   "source": [
    "b_driver.driver.find_element_by_xpath(\n",
    "    \"/html/body/div[1]/div/main/div/div[3]/div/div[2]/div[7]\"\n",
    ").text"
   ]
  },
  {
   "cell_type": "code",
   "execution_count": 12,
   "metadata": {
    "collapsed": true
   },
   "outputs": [
    {
     "name": "stdout",
     "output_type": "stream",
     "text": [
      "Locked Staking---\n",
      "SHIB\n",
      "Est. APY\n",
      "33.12%\n",
      "Duration (days)\n",
      "15\n",
      "30\n",
      "60\n",
      "90\n",
      "Sold out\n",
      "Check---\n",
      "INJ\n",
      "Est. APY\n",
      "3.67%\n",
      "Duration (days)\n",
      "30\n",
      "60\n",
      "90\n",
      "Stake Now---\n",
      "GRT\n",
      "Est. APY\n",
      "13.56%\n",
      "Duration (days)\n",
      "30\n",
      "60\n",
      "90\n",
      "Stake Now---\n",
      "KLAY\n",
      "Est. APY\n",
      "6.54%\n",
      "Duration (days)\n",
      "30\n",
      "60\n",
      "90\n",
      "Stake Now---\n",
      "SAND\n",
      "Est. APY\n",
      "12.36%\n",
      "Duration (days)\n",
      "30\n",
      "60\n",
      "90\n",
      "Stake Now---\n",
      "Expand all 64 Locked Staking products---\n"
     ]
    }
   ],
   "source": [
    "for i in range(1, 8):\n",
    "    print(b_driver.driver.find_element_by_xpath(\n",
    "        f\"/html/body/div[1]/div/main/div/div[3]/div/div[2]/div[{i}]\"\n",
    "    ).text, end=\"---\\n\")"
   ]
  },
  {
   "cell_type": "code",
   "execution_count": null,
   "metadata": {},
   "outputs": [],
   "source": [
    "data-bn-type=\"text\"\n",
    "//form/input[@type='password']"
   ]
  },
  {
   "cell_type": "code",
   "execution_count": 27,
   "metadata": {},
   "outputs": [
    {
     "data": {
      "text/plain": [
       "'Expand all 64 Locked Staking products'"
      ]
     },
     "execution_count": 27,
     "metadata": {},
     "output_type": "execute_result"
    }
   ],
   "source": [
    "b_driver.driver.find_element_by_xpath(\n",
    "    f\"/html/body/div[1]/div/main/div/div[3]/div/div[2]/div[@data-bn-type='text']\"\n",
    ").text"
   ]
  },
  {
   "cell_type": "code",
   "execution_count": 32,
   "metadata": {},
   "outputs": [
    {
     "data": {
      "text/plain": [
       "'Expand all 64 Locked Staking products'"
      ]
     },
     "execution_count": 32,
     "metadata": {},
     "output_type": "execute_result"
    }
   ],
   "source": [
    "b_driver.driver.find_element_by_xpath(\n",
    "    f\"//div[text()='Expand all 64 Locked Staking products']\"\n",
    ").text"
   ]
  },
  {
   "cell_type": "code",
   "execution_count": 41,
   "metadata": {},
   "outputs": [
    {
     "data": {
      "text/plain": [
       "'Expand all 64 Locked Staking products'"
      ]
     },
     "execution_count": 41,
     "metadata": {},
     "output_type": "execute_result"
    }
   ],
   "source": [
    "b_driver.driver.find_element_by_xpath(\n",
    "    f\"//div[contains(text(),'Expand all 64 Locked Staking products')]\"\n",
    "    ).text"
   ]
  },
  {
   "cell_type": "code",
   "execution_count": 40,
   "metadata": {},
   "outputs": [
    {
     "data": {
      "text/plain": [
       "'Expand all 64 Locked Staking products'"
      ]
     },
     "execution_count": 40,
     "metadata": {},
     "output_type": "execute_result"
    }
   ],
   "source": []
  },
  {
   "cell_type": "code",
   "execution_count": 26,
   "metadata": {},
   "outputs": [
    {
     "data": {
      "text/plain": [
       "'Locked Staking'"
      ]
     },
     "execution_count": 26,
     "metadata": {},
     "output_type": "execute_result"
    }
   ],
   "source": [
    "b_driver.driver.find_element_by_xpath(\n",
    "    f\"//span[text()='Locked Staking']\"\n",
    ").text"
   ]
  },
  {
   "cell_type": "code",
   "execution_count": 25,
   "metadata": {},
   "outputs": [
    {
     "data": {
      "text/plain": [
       "'Locked Staking'"
      ]
     },
     "execution_count": 25,
     "metadata": {},
     "output_type": "execute_result"
    }
   ],
   "source": [
    "b_driver.driver.find_element_by_xpath(\n",
    "    \"/html/body/div[1]/div/main/div/div[3]/div/div[2]/*\"\n",
    ").text"
   ]
  },
  {
   "cell_type": "code",
   "execution_count": null,
   "metadata": {},
   "outputs": [],
   "source": []
  }
 ],
 "metadata": {
  "kernelspec": {
   "display_name": "Scientist",
   "language": "python",
   "name": "scientist"
  },
  "language_info": {
   "codemirror_mode": {
    "name": "ipython",
    "version": 3
   },
   "file_extension": ".py",
   "mimetype": "text/x-python",
   "name": "python",
   "nbconvert_exporter": "python",
   "pygments_lexer": "ipython3",
   "version": "3.8.10"
  },
  "toc": {
   "base_numbering": 1,
   "nav_menu": {},
   "number_sections": true,
   "sideBar": true,
   "skip_h1_title": true,
   "title_cell": "Table of Contents",
   "title_sidebar": "Contents",
   "toc_cell": false,
   "toc_position": {},
   "toc_section_display": true,
   "toc_window_display": false
  },
  "varInspector": {
   "cols": {
    "lenName": 16,
    "lenType": 16,
    "lenVar": 40
   },
   "kernels_config": {
    "python": {
     "delete_cmd_postfix": "",
     "delete_cmd_prefix": "del ",
     "library": "var_list.py",
     "varRefreshCmd": "print(var_dic_list())"
    },
    "r": {
     "delete_cmd_postfix": ") ",
     "delete_cmd_prefix": "rm(",
     "library": "var_list.r",
     "varRefreshCmd": "cat(var_dic_list()) "
    }
   },
   "types_to_exclude": [
    "module",
    "function",
    "builtin_function_or_method",
    "instance",
    "_Feature"
   ],
   "window_display": false
  }
 },
 "nbformat": 4,
 "nbformat_minor": 4
}
