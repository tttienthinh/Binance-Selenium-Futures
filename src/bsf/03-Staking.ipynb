{
 "cells": [
  {
   "cell_type": "code",
   "execution_count": 1,
   "metadata": {},
   "outputs": [],
   "source": [
    "from bsf import BSF, Keys\n",
    "from selenium import webdriver\n",
    "import time"
   ]
  },
  {
   "cell_type": "code",
   "execution_count": 2,
   "metadata": {},
   "outputs": [
    {
     "name": "stdout",
     "output_type": "stream",
     "text": [
      "Enter when login is done : \n"
     ]
    },
    {
     "data": {
      "text/plain": [
       "''"
      ]
     },
     "execution_count": 2,
     "metadata": {},
     "output_type": "execute_result"
    }
   ],
   "source": [
    "b_driver = BSF(\n",
    "    webdriver.Firefox(executable_path=\"/home/tttienthinh/Documents/Programmation/Bash/StartupApp/driver/geckodriver\"),\n",
    ")\n",
    "input(\"Enter when login is done : \")"
   ]
  },
  {
   "cell_type": "code",
   "execution_count": 20,
   "metadata": {},
   "outputs": [],
   "source": [
    "b_driver.driver.get(\"https://accounts.binance.com/en/login\")"
   ]
  },
  {
   "cell_type": "code",
   "execution_count": 3,
   "metadata": {
    "collapsed": true
   },
   "outputs": [
    {
     "ename": "NoSuchElementException",
     "evalue": "Message: Unable to locate element: //div[a[text()='Free registration']]/a[1]\n",
     "output_type": "error",
     "traceback": [
      "\u001b[0;31m---------------------------------------------------------------------------\u001b[0m",
      "\u001b[0;31mNoSuchElementException\u001b[0m                    Traceback (most recent call last)",
      "\u001b[0;32m<ipython-input-3-952473175eb9>\u001b[0m in \u001b[0;36m<module>\u001b[0;34m\u001b[0m\n\u001b[1;32m      1\u001b[0m \u001b[0;31m# scan to login\u001b[0m\u001b[0;34m\u001b[0m\u001b[0;34m\u001b[0m\u001b[0;34m\u001b[0m\u001b[0m\n\u001b[0;32m----> 2\u001b[0;31m if b_driver.driver.find_element_by_xpath(\n\u001b[0m\u001b[1;32m      3\u001b[0m     \u001b[0;34m\"//div[a[text()='Free registration']]/a[1]\"\u001b[0m\u001b[0;34m\u001b[0m\u001b[0;34m\u001b[0m\u001b[0m\n\u001b[1;32m      4\u001b[0m ).text == 'Scan to login':\n\u001b[1;32m      5\u001b[0m     b_driver.driver.find_element_by_xpath(\n",
      "\u001b[0;32m~/Documents/Programmation/Scientist/venv/lib/python3.8/site-packages/selenium/webdriver/remote/webdriver.py\u001b[0m in \u001b[0;36mfind_element_by_xpath\u001b[0;34m(self, xpath)\u001b[0m\n\u001b[1;32m    392\u001b[0m             \u001b[0melement\u001b[0m \u001b[0;34m=\u001b[0m \u001b[0mdriver\u001b[0m\u001b[0;34m.\u001b[0m\u001b[0mfind_element_by_xpath\u001b[0m\u001b[0;34m(\u001b[0m\u001b[0;34m'//div/td[1]'\u001b[0m\u001b[0;34m)\u001b[0m\u001b[0;34m\u001b[0m\u001b[0;34m\u001b[0m\u001b[0m\n\u001b[1;32m    393\u001b[0m         \"\"\"\n\u001b[0;32m--> 394\u001b[0;31m         \u001b[0;32mreturn\u001b[0m \u001b[0mself\u001b[0m\u001b[0;34m.\u001b[0m\u001b[0mfind_element\u001b[0m\u001b[0;34m(\u001b[0m\u001b[0mby\u001b[0m\u001b[0;34m=\u001b[0m\u001b[0mBy\u001b[0m\u001b[0;34m.\u001b[0m\u001b[0mXPATH\u001b[0m\u001b[0;34m,\u001b[0m \u001b[0mvalue\u001b[0m\u001b[0;34m=\u001b[0m\u001b[0mxpath\u001b[0m\u001b[0;34m)\u001b[0m\u001b[0;34m\u001b[0m\u001b[0;34m\u001b[0m\u001b[0m\n\u001b[0m\u001b[1;32m    395\u001b[0m \u001b[0;34m\u001b[0m\u001b[0m\n\u001b[1;32m    396\u001b[0m     \u001b[0;32mdef\u001b[0m \u001b[0mfind_elements_by_xpath\u001b[0m\u001b[0;34m(\u001b[0m\u001b[0mself\u001b[0m\u001b[0;34m,\u001b[0m \u001b[0mxpath\u001b[0m\u001b[0;34m)\u001b[0m\u001b[0;34m:\u001b[0m\u001b[0;34m\u001b[0m\u001b[0;34m\u001b[0m\u001b[0m\n",
      "\u001b[0;32m~/Documents/Programmation/Scientist/venv/lib/python3.8/site-packages/selenium/webdriver/remote/webdriver.py\u001b[0m in \u001b[0;36mfind_element\u001b[0;34m(self, by, value)\u001b[0m\n\u001b[1;32m    974\u001b[0m                 \u001b[0mby\u001b[0m \u001b[0;34m=\u001b[0m \u001b[0mBy\u001b[0m\u001b[0;34m.\u001b[0m\u001b[0mCSS_SELECTOR\u001b[0m\u001b[0;34m\u001b[0m\u001b[0;34m\u001b[0m\u001b[0m\n\u001b[1;32m    975\u001b[0m                 \u001b[0mvalue\u001b[0m \u001b[0;34m=\u001b[0m \u001b[0;34m'[name=\"%s\"]'\u001b[0m \u001b[0;34m%\u001b[0m \u001b[0mvalue\u001b[0m\u001b[0;34m\u001b[0m\u001b[0;34m\u001b[0m\u001b[0m\n\u001b[0;32m--> 976\u001b[0;31m         return self.execute(Command.FIND_ELEMENT, {\n\u001b[0m\u001b[1;32m    977\u001b[0m             \u001b[0;34m'using'\u001b[0m\u001b[0;34m:\u001b[0m \u001b[0mby\u001b[0m\u001b[0;34m,\u001b[0m\u001b[0;34m\u001b[0m\u001b[0;34m\u001b[0m\u001b[0m\n\u001b[1;32m    978\u001b[0m             'value': value})['value']\n",
      "\u001b[0;32m~/Documents/Programmation/Scientist/venv/lib/python3.8/site-packages/selenium/webdriver/remote/webdriver.py\u001b[0m in \u001b[0;36mexecute\u001b[0;34m(self, driver_command, params)\u001b[0m\n\u001b[1;32m    319\u001b[0m         \u001b[0mresponse\u001b[0m \u001b[0;34m=\u001b[0m \u001b[0mself\u001b[0m\u001b[0;34m.\u001b[0m\u001b[0mcommand_executor\u001b[0m\u001b[0;34m.\u001b[0m\u001b[0mexecute\u001b[0m\u001b[0;34m(\u001b[0m\u001b[0mdriver_command\u001b[0m\u001b[0;34m,\u001b[0m \u001b[0mparams\u001b[0m\u001b[0;34m)\u001b[0m\u001b[0;34m\u001b[0m\u001b[0;34m\u001b[0m\u001b[0m\n\u001b[1;32m    320\u001b[0m         \u001b[0;32mif\u001b[0m \u001b[0mresponse\u001b[0m\u001b[0;34m:\u001b[0m\u001b[0;34m\u001b[0m\u001b[0;34m\u001b[0m\u001b[0m\n\u001b[0;32m--> 321\u001b[0;31m             \u001b[0mself\u001b[0m\u001b[0;34m.\u001b[0m\u001b[0merror_handler\u001b[0m\u001b[0;34m.\u001b[0m\u001b[0mcheck_response\u001b[0m\u001b[0;34m(\u001b[0m\u001b[0mresponse\u001b[0m\u001b[0;34m)\u001b[0m\u001b[0;34m\u001b[0m\u001b[0;34m\u001b[0m\u001b[0m\n\u001b[0m\u001b[1;32m    322\u001b[0m             response['value'] = self._unwrap_value(\n\u001b[1;32m    323\u001b[0m                 response.get('value', None))\n",
      "\u001b[0;32m~/Documents/Programmation/Scientist/venv/lib/python3.8/site-packages/selenium/webdriver/remote/errorhandler.py\u001b[0m in \u001b[0;36mcheck_response\u001b[0;34m(self, response)\u001b[0m\n\u001b[1;32m    240\u001b[0m                 \u001b[0malert_text\u001b[0m \u001b[0;34m=\u001b[0m \u001b[0mvalue\u001b[0m\u001b[0;34m[\u001b[0m\u001b[0;34m'alert'\u001b[0m\u001b[0;34m]\u001b[0m\u001b[0;34m.\u001b[0m\u001b[0mget\u001b[0m\u001b[0;34m(\u001b[0m\u001b[0;34m'text'\u001b[0m\u001b[0;34m)\u001b[0m\u001b[0;34m\u001b[0m\u001b[0;34m\u001b[0m\u001b[0m\n\u001b[1;32m    241\u001b[0m             \u001b[0;32mraise\u001b[0m \u001b[0mexception_class\u001b[0m\u001b[0;34m(\u001b[0m\u001b[0mmessage\u001b[0m\u001b[0;34m,\u001b[0m \u001b[0mscreen\u001b[0m\u001b[0;34m,\u001b[0m \u001b[0mstacktrace\u001b[0m\u001b[0;34m,\u001b[0m \u001b[0malert_text\u001b[0m\u001b[0;34m)\u001b[0m\u001b[0;34m\u001b[0m\u001b[0;34m\u001b[0m\u001b[0m\n\u001b[0;32m--> 242\u001b[0;31m         \u001b[0;32mraise\u001b[0m \u001b[0mexception_class\u001b[0m\u001b[0;34m(\u001b[0m\u001b[0mmessage\u001b[0m\u001b[0;34m,\u001b[0m \u001b[0mscreen\u001b[0m\u001b[0;34m,\u001b[0m \u001b[0mstacktrace\u001b[0m\u001b[0;34m)\u001b[0m\u001b[0;34m\u001b[0m\u001b[0;34m\u001b[0m\u001b[0m\n\u001b[0m\u001b[1;32m    243\u001b[0m \u001b[0;34m\u001b[0m\u001b[0m\n\u001b[1;32m    244\u001b[0m     \u001b[0;32mdef\u001b[0m \u001b[0m_value_or_default\u001b[0m\u001b[0;34m(\u001b[0m\u001b[0mself\u001b[0m\u001b[0;34m,\u001b[0m \u001b[0mobj\u001b[0m\u001b[0;34m,\u001b[0m \u001b[0mkey\u001b[0m\u001b[0;34m,\u001b[0m \u001b[0mdefault\u001b[0m\u001b[0;34m)\u001b[0m\u001b[0;34m:\u001b[0m\u001b[0;34m\u001b[0m\u001b[0;34m\u001b[0m\u001b[0m\n",
      "\u001b[0;31mNoSuchElementException\u001b[0m: Message: Unable to locate element: //div[a[text()='Free registration']]/a[1]\n"
     ]
    }
   ],
   "source": [
    "# scan to login\n",
    "if b_driver.driver.find_element_by_xpath(\n",
    "    \"//div[a[text()='Free registration']]/a[1]\"\n",
    ").text == 'Scan to login':\n",
    "    b_driver.driver.find_element_by_xpath(\n",
    "        \"//div[a[text()='Free registration']]/a[1]\"\n",
    "    ).click()"
   ]
  },
  {
   "cell_type": "code",
   "execution_count": 4,
   "metadata": {},
   "outputs": [
    {
     "data": {
      "text/plain": [
       "'\\nb_driver.driver.find_element_by_xpath(\\n    \"//div[contains(text(),\\'Expand\\')]\"\\n).click()\\n\\n'"
      ]
     },
     "execution_count": 4,
     "metadata": {},
     "output_type": "execute_result"
    }
   ],
   "source": [
    "b_driver.stake_page()\n",
    "\n",
    "# Expand\n",
    "\"\"\"\n",
    "b_driver.driver.find_element_by_xpath(\n",
    "    \"//div[contains(text(),'Expand')]\"\n",
    ").click()\n",
    "\n",
    "\"\"\""
   ]
  },
  {
   "cell_type": "markdown",
   "metadata": {},
   "source": [
    "b_driver.driver.execute_script(\n",
    "    \"\"\"document.evaluate(\\\n",
    "        \"//div[div[contains(text(),'DOT')]]/div/button\", \\\n",
    "        document, \\\n",
    "        null, \\\n",
    "        XPathResult.FIRST_ORDERED_NODE_TYPE, \\\n",
    "        null\\\n",
    "    ).singleNodeValue.click()\\\n",
    "    \"\"\"\n",
    ")"
   ]
  },
  {
   "cell_type": "code",
   "execution_count": 6,
   "metadata": {},
   "outputs": [
    {
     "data": {
      "text/plain": [
       "0"
      ]
     },
     "execution_count": 6,
     "metadata": {},
     "output_type": "execute_result"
    }
   ],
   "source": [
    "b_driver.stake(\"KLAY\", \"30\")"
   ]
  },
  {
   "cell_type": "code",
   "execution_count": 54,
   "metadata": {},
   "outputs": [],
   "source": [
    "b_driver.driver.find_element_by_xpath(\n",
    "    \"//button[text()='Max']\"\n",
    ").click()"
   ]
  },
  {
   "cell_type": "code",
   "execution_count": 7,
   "metadata": {},
   "outputs": [
    {
     "data": {
      "text/plain": [
       "0.0"
      ]
     },
     "execution_count": 7,
     "metadata": {},
     "output_type": "execute_result"
    }
   ],
   "source": [
    "float(b_driver.driver.find_element_by_xpath(\n",
    "    \"//input[@aria-label='Lock Amount']\"\n",
    ").get_attribute(\"value\"))"
   ]
  },
  {
   "cell_type": "code",
   "execution_count": 56,
   "metadata": {},
   "outputs": [],
   "source": [
    "b_driver.driver.find_element_by_xpath(\n",
    "    \"//div[div[contains(text(),'I have read and I agree')]]/label/div[input[@type='checkbox']]\"\n",
    ").click()"
   ]
  },
  {
   "cell_type": "code",
   "execution_count": 58,
   "metadata": {},
   "outputs": [],
   "source": [
    "b_driver.driver.find_element_by_xpath(\n",
    "    \"//button[contains(text(),'Confirm')]\"\n",
    ").click()"
   ]
  },
  {
   "cell_type": "code",
   "execution_count": 18,
   "metadata": {},
   "outputs": [],
   "source": [
    "b_driver.driver.quit()"
   ]
  },
  {
   "cell_type": "markdown",
   "metadata": {},
   "source": [
    "# Donation"
   ]
  },
  {
   "cell_type": "code",
   "execution_count": 59,
   "metadata": {},
   "outputs": [
    {
     "name": "stdout",
     "output_type": "stream",
     "text": [
      "Make a P2P donation to bataillondereussite@gmail.com account\n",
      "Or send Litecoin (LTC) directly to LTb9de9CPVZBnPHvp29jr134LoVu9QJCFe\n"
     ]
    },
    {
     "ename": "NoSuchElementException",
     "evalue": "Message: Unable to locate element: /html/body/div[1]/div[2]/main/main/div[2]/div/div/div/div/div/div[2]/div/div[1]/div/div[1]/div[3]/div/div[2]/div/div/input\n",
     "output_type": "error",
     "traceback": [
      "\u001b[0;31m---------------------------------------------------------------------------\u001b[0m",
      "\u001b[0;31mNoSuchElementException\u001b[0m                    Traceback (most recent call last)",
      "\u001b[0;32m<ipython-input-59-dd52b3ffe8b6>\u001b[0m in \u001b[0;36m<module>\u001b[0;34m\u001b[0m\n\u001b[0;32m----> 1\u001b[0;31m \u001b[0mb_driver\u001b[0m\u001b[0;34m.\u001b[0m\u001b[0mdonation\u001b[0m\u001b[0;34m(\u001b[0m\u001b[0;34m)\u001b[0m\u001b[0;34m\u001b[0m\u001b[0;34m\u001b[0m\u001b[0m\n\u001b[0m",
      "\u001b[0;32m~/Documents/Programmation/Scientist/GA-trading/Binance/Binance-Selenium-Futures/src/bsf/bsf.py\u001b[0m in \u001b[0;36mdonation\u001b[0;34m(self)\u001b[0m\n\u001b[1;32m    161\u001b[0m     \u001b[0;32mdef\u001b[0m \u001b[0mstake_page\u001b[0m\u001b[0;34m(\u001b[0m\u001b[0mself\u001b[0m\u001b[0;34m)\u001b[0m\u001b[0;34m:\u001b[0m\u001b[0;34m\u001b[0m\u001b[0;34m\u001b[0m\u001b[0m\n\u001b[1;32m    162\u001b[0m         \u001b[0mself\u001b[0m\u001b[0;34m.\u001b[0m\u001b[0mdriver\u001b[0m\u001b[0;34m.\u001b[0m\u001b[0mget\u001b[0m\u001b[0;34m(\u001b[0m\u001b[0;34m\"https://www.binance.com/en/pos\"\u001b[0m\u001b[0;34m)\u001b[0m\u001b[0;34m\u001b[0m\u001b[0;34m\u001b[0m\u001b[0m\n\u001b[0;32m--> 163\u001b[0;31m         \u001b[0mtime\u001b[0m\u001b[0;34m.\u001b[0m\u001b[0msleep\u001b[0m\u001b[0;34m(\u001b[0m\u001b[0;36m3\u001b[0m\u001b[0;34m)\u001b[0m\u001b[0;34m\u001b[0m\u001b[0;34m\u001b[0m\u001b[0m\n\u001b[0m\u001b[1;32m    164\u001b[0m         self.driver.find_element_by_xpath(\n\u001b[1;32m    165\u001b[0m             \u001b[0;34m\"//div[contains(text(),'Expand')]\"\u001b[0m\u001b[0;34m\u001b[0m\u001b[0;34m\u001b[0m\u001b[0m\n",
      "\u001b[0;32m~/Documents/Programmation/Scientist/venv/lib/python3.8/site-packages/selenium/webdriver/remote/webdriver.py\u001b[0m in \u001b[0;36mfind_element_by_xpath\u001b[0;34m(self, xpath)\u001b[0m\n\u001b[1;32m    392\u001b[0m             \u001b[0melement\u001b[0m \u001b[0;34m=\u001b[0m \u001b[0mdriver\u001b[0m\u001b[0;34m.\u001b[0m\u001b[0mfind_element_by_xpath\u001b[0m\u001b[0;34m(\u001b[0m\u001b[0;34m'//div/td[1]'\u001b[0m\u001b[0;34m)\u001b[0m\u001b[0;34m\u001b[0m\u001b[0;34m\u001b[0m\u001b[0m\n\u001b[1;32m    393\u001b[0m         \"\"\"\n\u001b[0;32m--> 394\u001b[0;31m         \u001b[0;32mreturn\u001b[0m \u001b[0mself\u001b[0m\u001b[0;34m.\u001b[0m\u001b[0mfind_element\u001b[0m\u001b[0;34m(\u001b[0m\u001b[0mby\u001b[0m\u001b[0;34m=\u001b[0m\u001b[0mBy\u001b[0m\u001b[0;34m.\u001b[0m\u001b[0mXPATH\u001b[0m\u001b[0;34m,\u001b[0m \u001b[0mvalue\u001b[0m\u001b[0;34m=\u001b[0m\u001b[0mxpath\u001b[0m\u001b[0;34m)\u001b[0m\u001b[0;34m\u001b[0m\u001b[0;34m\u001b[0m\u001b[0m\n\u001b[0m\u001b[1;32m    395\u001b[0m \u001b[0;34m\u001b[0m\u001b[0m\n\u001b[1;32m    396\u001b[0m     \u001b[0;32mdef\u001b[0m \u001b[0mfind_elements_by_xpath\u001b[0m\u001b[0;34m(\u001b[0m\u001b[0mself\u001b[0m\u001b[0;34m,\u001b[0m \u001b[0mxpath\u001b[0m\u001b[0;34m)\u001b[0m\u001b[0;34m:\u001b[0m\u001b[0;34m\u001b[0m\u001b[0;34m\u001b[0m\u001b[0m\n",
      "\u001b[0;32m~/Documents/Programmation/Scientist/venv/lib/python3.8/site-packages/selenium/webdriver/remote/webdriver.py\u001b[0m in \u001b[0;36mfind_element\u001b[0;34m(self, by, value)\u001b[0m\n\u001b[1;32m    974\u001b[0m                 \u001b[0mby\u001b[0m \u001b[0;34m=\u001b[0m \u001b[0mBy\u001b[0m\u001b[0;34m.\u001b[0m\u001b[0mCSS_SELECTOR\u001b[0m\u001b[0;34m\u001b[0m\u001b[0;34m\u001b[0m\u001b[0m\n\u001b[1;32m    975\u001b[0m                 \u001b[0mvalue\u001b[0m \u001b[0;34m=\u001b[0m \u001b[0;34m'[name=\"%s\"]'\u001b[0m \u001b[0;34m%\u001b[0m \u001b[0mvalue\u001b[0m\u001b[0;34m\u001b[0m\u001b[0;34m\u001b[0m\u001b[0m\n\u001b[0;32m--> 976\u001b[0;31m         return self.execute(Command.FIND_ELEMENT, {\n\u001b[0m\u001b[1;32m    977\u001b[0m             \u001b[0;34m'using'\u001b[0m\u001b[0;34m:\u001b[0m \u001b[0mby\u001b[0m\u001b[0;34m,\u001b[0m\u001b[0;34m\u001b[0m\u001b[0;34m\u001b[0m\u001b[0m\n\u001b[1;32m    978\u001b[0m             'value': value})['value']\n",
      "\u001b[0;32m~/Documents/Programmation/Scientist/venv/lib/python3.8/site-packages/selenium/webdriver/remote/webdriver.py\u001b[0m in \u001b[0;36mexecute\u001b[0;34m(self, driver_command, params)\u001b[0m\n\u001b[1;32m    319\u001b[0m         \u001b[0mresponse\u001b[0m \u001b[0;34m=\u001b[0m \u001b[0mself\u001b[0m\u001b[0;34m.\u001b[0m\u001b[0mcommand_executor\u001b[0m\u001b[0;34m.\u001b[0m\u001b[0mexecute\u001b[0m\u001b[0;34m(\u001b[0m\u001b[0mdriver_command\u001b[0m\u001b[0;34m,\u001b[0m \u001b[0mparams\u001b[0m\u001b[0;34m)\u001b[0m\u001b[0;34m\u001b[0m\u001b[0;34m\u001b[0m\u001b[0m\n\u001b[1;32m    320\u001b[0m         \u001b[0;32mif\u001b[0m \u001b[0mresponse\u001b[0m\u001b[0;34m:\u001b[0m\u001b[0;34m\u001b[0m\u001b[0;34m\u001b[0m\u001b[0m\n\u001b[0;32m--> 321\u001b[0;31m             \u001b[0mself\u001b[0m\u001b[0;34m.\u001b[0m\u001b[0merror_handler\u001b[0m\u001b[0;34m.\u001b[0m\u001b[0mcheck_response\u001b[0m\u001b[0;34m(\u001b[0m\u001b[0mresponse\u001b[0m\u001b[0;34m)\u001b[0m\u001b[0;34m\u001b[0m\u001b[0;34m\u001b[0m\u001b[0m\n\u001b[0m\u001b[1;32m    322\u001b[0m             response['value'] = self._unwrap_value(\n\u001b[1;32m    323\u001b[0m                 response.get('value', None))\n",
      "\u001b[0;32m~/Documents/Programmation/Scientist/venv/lib/python3.8/site-packages/selenium/webdriver/remote/errorhandler.py\u001b[0m in \u001b[0;36mcheck_response\u001b[0;34m(self, response)\u001b[0m\n\u001b[1;32m    240\u001b[0m                 \u001b[0malert_text\u001b[0m \u001b[0;34m=\u001b[0m \u001b[0mvalue\u001b[0m\u001b[0;34m[\u001b[0m\u001b[0;34m'alert'\u001b[0m\u001b[0;34m]\u001b[0m\u001b[0;34m.\u001b[0m\u001b[0mget\u001b[0m\u001b[0;34m(\u001b[0m\u001b[0;34m'text'\u001b[0m\u001b[0;34m)\u001b[0m\u001b[0;34m\u001b[0m\u001b[0;34m\u001b[0m\u001b[0m\n\u001b[1;32m    241\u001b[0m             \u001b[0;32mraise\u001b[0m \u001b[0mexception_class\u001b[0m\u001b[0;34m(\u001b[0m\u001b[0mmessage\u001b[0m\u001b[0;34m,\u001b[0m \u001b[0mscreen\u001b[0m\u001b[0;34m,\u001b[0m \u001b[0mstacktrace\u001b[0m\u001b[0;34m,\u001b[0m \u001b[0malert_text\u001b[0m\u001b[0;34m)\u001b[0m\u001b[0;34m\u001b[0m\u001b[0;34m\u001b[0m\u001b[0m\n\u001b[0;32m--> 242\u001b[0;31m         \u001b[0;32mraise\u001b[0m \u001b[0mexception_class\u001b[0m\u001b[0;34m(\u001b[0m\u001b[0mmessage\u001b[0m\u001b[0;34m,\u001b[0m \u001b[0mscreen\u001b[0m\u001b[0;34m,\u001b[0m \u001b[0mstacktrace\u001b[0m\u001b[0;34m)\u001b[0m\u001b[0;34m\u001b[0m\u001b[0;34m\u001b[0m\u001b[0m\n\u001b[0m\u001b[1;32m    243\u001b[0m \u001b[0;34m\u001b[0m\u001b[0m\n\u001b[1;32m    244\u001b[0m     \u001b[0;32mdef\u001b[0m \u001b[0m_value_or_default\u001b[0m\u001b[0;34m(\u001b[0m\u001b[0mself\u001b[0m\u001b[0;34m,\u001b[0m \u001b[0mobj\u001b[0m\u001b[0;34m,\u001b[0m \u001b[0mkey\u001b[0m\u001b[0;34m,\u001b[0m \u001b[0mdefault\u001b[0m\u001b[0;34m)\u001b[0m\u001b[0;34m:\u001b[0m\u001b[0;34m\u001b[0m\u001b[0;34m\u001b[0m\u001b[0m\n",
      "\u001b[0;31mNoSuchElementException\u001b[0m: Message: Unable to locate element: /html/body/div[1]/div[2]/main/main/div[2]/div/div/div/div/div/div[2]/div/div[1]/div/div[1]/div[3]/div/div[2]/div/div/input\n"
     ]
    }
   ],
   "source": [
    "b_driver.donation()"
   ]
  },
  {
   "cell_type": "code",
   "execution_count": 60,
   "metadata": {},
   "outputs": [],
   "source": [
    "b_driver.driver.get(\"https://www.binance.com/en/my/wallet/account/c2c\")"
   ]
  },
  {
   "cell_type": "code",
   "execution_count": null,
   "metadata": {},
   "outputs": [],
   "source": [
    "tranthuongtienthinh@gmail.com"
   ]
  },
  {
   "cell_type": "code",
   "execution_count": 78,
   "metadata": {},
   "outputs": [],
   "source": [
    "b_driver.driver.find_element_by_xpath(\n",
    "    \"//tbody/tr/td[5]/div/div[2]/div[2]\"\n",
    ").click()"
   ]
  },
  {
   "cell_type": "code",
   "execution_count": 120,
   "metadata": {},
   "outputs": [],
   "source": [
    "b_driver.driver.find_element_by_xpath(\n",
    "    \"\"\"//input[@placeholder=\"Enter the receiver's email\"]\"\"\"\n",
    ").send_keys(\"tranthuongtienthinh@gmail.com\")\n"
   ]
  },
  {
   "cell_type": "code",
   "execution_count": 121,
   "metadata": {},
   "outputs": [],
   "source": [
    "b_driver.driver.find_element_by_xpath(\n",
    "    \"//button[contains(text(),'Next')]\"\n",
    ").click()"
   ]
  },
  {
   "cell_type": "markdown",
   "metadata": {},
   "source": [
    "# Donation page"
   ]
  },
  {
   "cell_type": "code",
   "execution_count": null,
   "metadata": {},
   "outputs": [],
   "source": [
    "/html/body/div/div[2]/main/main/div[2]/div/div/div/div/div/div[2]/div/div[1]/div/div/div/div[2]/div/div[1]/div"
   ]
  },
  {
   "cell_type": "code",
   "execution_count": 122,
   "metadata": {},
   "outputs": [],
   "source": [
    "b_driver.driver.find_element_by_xpath(\n",
    "    \"//div[contains(@class, 'bn-input-suffix')]\"\n",
    ").click()"
   ]
  },
  {
   "cell_type": "code",
   "execution_count": 123,
   "metadata": {},
   "outputs": [],
   "source": [
    "b_driver.driver.find_element_by_xpath(\n",
    "    \"//li[@id='BTC']\"\n",
    ").click()"
   ]
  },
  {
   "cell_type": "code",
   "execution_count": 144,
   "metadata": {},
   "outputs": [
    {
     "data": {
      "text/plain": [
       "0.0"
      ]
     },
     "execution_count": 144,
     "metadata": {},
     "output_type": "execute_result"
    }
   ],
   "source": [
    "# Get max p2p value\n",
    "float(b_driver.driver.find_element_by_xpath(\n",
    "    \"//span[contains(text(), 'Available amount')]\"\n",
    "    ).text.split()[-1].replace('DAI', '')\n",
    "   )\n",
    "b_driver.driver.find_element_by_xpath(\n",
    "    \"//button[contains(text(), 'Max')]\"\n",
    ").click()\n",
    "\n",
    "int(b_driver.driver.find_element_by_xpath(\n",
    "    \"//input[@aria-label='Amount']\"\n",
    ").get_attribute(\"value\"))\n"
   ]
  },
  {
   "cell_type": "code",
   "execution_count": 125,
   "metadata": {},
   "outputs": [],
   "source": [
    "# Spot Transfer"
   ]
  },
  {
   "cell_type": "code",
   "execution_count": 126,
   "metadata": {},
   "outputs": [],
   "source": [
    "b_driver.driver.find_element_by_xpath(\n",
    "    \"//div[contains(text(), 'Transfer')]\"\n",
    ").click()"
   ]
  },
  {
   "cell_type": "code",
   "execution_count": 128,
   "metadata": {},
   "outputs": [],
   "source": [
    " if b_driver.driver.find_element_by_xpath(\n",
    "    \"//div[label[contains(text(), 'From')]]/div/div\"\n",
    ").text == \"P2P\":\n",
    "    b_driver.driver.find_element_by_xpath(\n",
    "        \"//div[@class='css-38fup1']\"\n",
    "    ).click()"
   ]
  },
  {
   "cell_type": "code",
   "execution_count": 164,
   "metadata": {},
   "outputs": [
    {
     "data": {
      "text/plain": [
       "0.0"
      ]
     },
     "execution_count": 164,
     "metadata": {},
     "output_type": "execute_result"
    }
   ],
   "source": [
    "# Get max p2p value\n",
    "float(\n",
    "    b_driver.driver.find_element_by_xpath(\n",
    "        \"//div[div[contains(text(), 'Amount')]]/div/span\"\n",
    "    ).text\n",
    ")"
   ]
  },
  {
   "cell_type": "code",
   "execution_count": 165,
   "metadata": {},
   "outputs": [],
   "source": [
    "# set amount and validate\n",
    "b_driver.driver.find_element_by_xpath(\n",
    "    \"//div[label/div/div[contains(text(), 'Amount')]]/div/input\"\n",
    ").send_keys(54)"
   ]
  },
  {
   "cell_type": "code",
   "execution_count": 169,
   "metadata": {
    "collapsed": true
   },
   "outputs": [
    {
     "ename": "ElementClickInterceptedException",
     "evalue": "Message: Element <button class=\" css-3edx96\"> is not clickable at point (917,380) because another element <svg class=\"css-1nlwvj5\"> obscures it\n",
     "output_type": "error",
     "traceback": [
      "\u001b[0;31m---------------------------------------------------------------------------\u001b[0m",
      "\u001b[0;31mElementClickInterceptedException\u001b[0m          Traceback (most recent call last)",
      "\u001b[0;32m<ipython-input-169-c43fd9193158>\u001b[0m in \u001b[0;36m<module>\u001b[0;34m\u001b[0m\n\u001b[0;32m----> 1\u001b[0;31m b_driver.driver.find_element_by_xpath(\n\u001b[0m\u001b[1;32m      2\u001b[0m     \u001b[0;34m\"//button[contains(text(), 'Confirm')]\"\u001b[0m\u001b[0;34m\u001b[0m\u001b[0;34m\u001b[0m\u001b[0m\n\u001b[1;32m      3\u001b[0m ).click()\n",
      "\u001b[0;32m~/Documents/Programmation/Scientist/venv/lib/python3.8/site-packages/selenium/webdriver/remote/webelement.py\u001b[0m in \u001b[0;36mclick\u001b[0;34m(self)\u001b[0m\n\u001b[1;32m     78\u001b[0m     \u001b[0;32mdef\u001b[0m \u001b[0mclick\u001b[0m\u001b[0;34m(\u001b[0m\u001b[0mself\u001b[0m\u001b[0;34m)\u001b[0m\u001b[0;34m:\u001b[0m\u001b[0;34m\u001b[0m\u001b[0;34m\u001b[0m\u001b[0m\n\u001b[1;32m     79\u001b[0m         \u001b[0;34m\"\"\"Clicks the element.\"\"\"\u001b[0m\u001b[0;34m\u001b[0m\u001b[0;34m\u001b[0m\u001b[0m\n\u001b[0;32m---> 80\u001b[0;31m         \u001b[0mself\u001b[0m\u001b[0;34m.\u001b[0m\u001b[0m_execute\u001b[0m\u001b[0;34m(\u001b[0m\u001b[0mCommand\u001b[0m\u001b[0;34m.\u001b[0m\u001b[0mCLICK_ELEMENT\u001b[0m\u001b[0;34m)\u001b[0m\u001b[0;34m\u001b[0m\u001b[0;34m\u001b[0m\u001b[0m\n\u001b[0m\u001b[1;32m     81\u001b[0m \u001b[0;34m\u001b[0m\u001b[0m\n\u001b[1;32m     82\u001b[0m     \u001b[0;32mdef\u001b[0m \u001b[0msubmit\u001b[0m\u001b[0;34m(\u001b[0m\u001b[0mself\u001b[0m\u001b[0;34m)\u001b[0m\u001b[0;34m:\u001b[0m\u001b[0;34m\u001b[0m\u001b[0;34m\u001b[0m\u001b[0m\n",
      "\u001b[0;32m~/Documents/Programmation/Scientist/venv/lib/python3.8/site-packages/selenium/webdriver/remote/webelement.py\u001b[0m in \u001b[0;36m_execute\u001b[0;34m(self, command, params)\u001b[0m\n\u001b[1;32m    631\u001b[0m             \u001b[0mparams\u001b[0m \u001b[0;34m=\u001b[0m \u001b[0;34m{\u001b[0m\u001b[0;34m}\u001b[0m\u001b[0;34m\u001b[0m\u001b[0;34m\u001b[0m\u001b[0m\n\u001b[1;32m    632\u001b[0m         \u001b[0mparams\u001b[0m\u001b[0;34m[\u001b[0m\u001b[0;34m'id'\u001b[0m\u001b[0;34m]\u001b[0m \u001b[0;34m=\u001b[0m \u001b[0mself\u001b[0m\u001b[0;34m.\u001b[0m\u001b[0m_id\u001b[0m\u001b[0;34m\u001b[0m\u001b[0;34m\u001b[0m\u001b[0m\n\u001b[0;32m--> 633\u001b[0;31m         \u001b[0;32mreturn\u001b[0m \u001b[0mself\u001b[0m\u001b[0;34m.\u001b[0m\u001b[0m_parent\u001b[0m\u001b[0;34m.\u001b[0m\u001b[0mexecute\u001b[0m\u001b[0;34m(\u001b[0m\u001b[0mcommand\u001b[0m\u001b[0;34m,\u001b[0m \u001b[0mparams\u001b[0m\u001b[0;34m)\u001b[0m\u001b[0;34m\u001b[0m\u001b[0;34m\u001b[0m\u001b[0m\n\u001b[0m\u001b[1;32m    634\u001b[0m \u001b[0;34m\u001b[0m\u001b[0m\n\u001b[1;32m    635\u001b[0m     \u001b[0;32mdef\u001b[0m \u001b[0mfind_element\u001b[0m\u001b[0;34m(\u001b[0m\u001b[0mself\u001b[0m\u001b[0;34m,\u001b[0m \u001b[0mby\u001b[0m\u001b[0;34m=\u001b[0m\u001b[0mBy\u001b[0m\u001b[0;34m.\u001b[0m\u001b[0mID\u001b[0m\u001b[0;34m,\u001b[0m \u001b[0mvalue\u001b[0m\u001b[0;34m=\u001b[0m\u001b[0;32mNone\u001b[0m\u001b[0;34m)\u001b[0m\u001b[0;34m:\u001b[0m\u001b[0;34m\u001b[0m\u001b[0;34m\u001b[0m\u001b[0m\n",
      "\u001b[0;32m~/Documents/Programmation/Scientist/venv/lib/python3.8/site-packages/selenium/webdriver/remote/webdriver.py\u001b[0m in \u001b[0;36mexecute\u001b[0;34m(self, driver_command, params)\u001b[0m\n\u001b[1;32m    319\u001b[0m         \u001b[0mresponse\u001b[0m \u001b[0;34m=\u001b[0m \u001b[0mself\u001b[0m\u001b[0;34m.\u001b[0m\u001b[0mcommand_executor\u001b[0m\u001b[0;34m.\u001b[0m\u001b[0mexecute\u001b[0m\u001b[0;34m(\u001b[0m\u001b[0mdriver_command\u001b[0m\u001b[0;34m,\u001b[0m \u001b[0mparams\u001b[0m\u001b[0;34m)\u001b[0m\u001b[0;34m\u001b[0m\u001b[0;34m\u001b[0m\u001b[0m\n\u001b[1;32m    320\u001b[0m         \u001b[0;32mif\u001b[0m \u001b[0mresponse\u001b[0m\u001b[0;34m:\u001b[0m\u001b[0;34m\u001b[0m\u001b[0;34m\u001b[0m\u001b[0m\n\u001b[0;32m--> 321\u001b[0;31m             \u001b[0mself\u001b[0m\u001b[0;34m.\u001b[0m\u001b[0merror_handler\u001b[0m\u001b[0;34m.\u001b[0m\u001b[0mcheck_response\u001b[0m\u001b[0;34m(\u001b[0m\u001b[0mresponse\u001b[0m\u001b[0;34m)\u001b[0m\u001b[0;34m\u001b[0m\u001b[0;34m\u001b[0m\u001b[0m\n\u001b[0m\u001b[1;32m    322\u001b[0m             response['value'] = self._unwrap_value(\n\u001b[1;32m    323\u001b[0m                 response.get('value', None))\n",
      "\u001b[0;32m~/Documents/Programmation/Scientist/venv/lib/python3.8/site-packages/selenium/webdriver/remote/errorhandler.py\u001b[0m in \u001b[0;36mcheck_response\u001b[0;34m(self, response)\u001b[0m\n\u001b[1;32m    240\u001b[0m                 \u001b[0malert_text\u001b[0m \u001b[0;34m=\u001b[0m \u001b[0mvalue\u001b[0m\u001b[0;34m[\u001b[0m\u001b[0;34m'alert'\u001b[0m\u001b[0;34m]\u001b[0m\u001b[0;34m.\u001b[0m\u001b[0mget\u001b[0m\u001b[0;34m(\u001b[0m\u001b[0;34m'text'\u001b[0m\u001b[0;34m)\u001b[0m\u001b[0;34m\u001b[0m\u001b[0;34m\u001b[0m\u001b[0m\n\u001b[1;32m    241\u001b[0m             \u001b[0;32mraise\u001b[0m \u001b[0mexception_class\u001b[0m\u001b[0;34m(\u001b[0m\u001b[0mmessage\u001b[0m\u001b[0;34m,\u001b[0m \u001b[0mscreen\u001b[0m\u001b[0;34m,\u001b[0m \u001b[0mstacktrace\u001b[0m\u001b[0;34m,\u001b[0m \u001b[0malert_text\u001b[0m\u001b[0;34m)\u001b[0m\u001b[0;34m\u001b[0m\u001b[0;34m\u001b[0m\u001b[0m\n\u001b[0;32m--> 242\u001b[0;31m         \u001b[0;32mraise\u001b[0m \u001b[0mexception_class\u001b[0m\u001b[0;34m(\u001b[0m\u001b[0mmessage\u001b[0m\u001b[0;34m,\u001b[0m \u001b[0mscreen\u001b[0m\u001b[0;34m,\u001b[0m \u001b[0mstacktrace\u001b[0m\u001b[0;34m)\u001b[0m\u001b[0;34m\u001b[0m\u001b[0;34m\u001b[0m\u001b[0m\n\u001b[0m\u001b[1;32m    243\u001b[0m \u001b[0;34m\u001b[0m\u001b[0m\n\u001b[1;32m    244\u001b[0m     \u001b[0;32mdef\u001b[0m \u001b[0m_value_or_default\u001b[0m\u001b[0;34m(\u001b[0m\u001b[0mself\u001b[0m\u001b[0;34m,\u001b[0m \u001b[0mobj\u001b[0m\u001b[0;34m,\u001b[0m \u001b[0mkey\u001b[0m\u001b[0;34m,\u001b[0m \u001b[0mdefault\u001b[0m\u001b[0;34m)\u001b[0m\u001b[0;34m:\u001b[0m\u001b[0;34m\u001b[0m\u001b[0;34m\u001b[0m\u001b[0m\n",
      "\u001b[0;31mElementClickInterceptedException\u001b[0m: Message: Element <button class=\" css-3edx96\"> is not clickable at point (917,380) because another element <svg class=\"css-1nlwvj5\"> obscures it\n"
     ]
    }
   ],
   "source": [
    "b_driver.driver.find_element_by_xpath(\n",
    "    \"//button[contains(text(), 'Confirm')]\"\n",
    ").click()\n"
   ]
  },
  {
   "cell_type": "code",
   "execution_count": 170,
   "metadata": {},
   "outputs": [],
   "source": [
    "# quit transfer\n",
    "b_driver.driver.find_element_by_xpath(\n",
    "    \"//div[@class='css-1e1f1e0']\"\n",
    ").click()"
   ]
  },
  {
   "cell_type": "code",
   "execution_count": 175,
   "metadata": {},
   "outputs": [
    {
     "data": {
      "text/plain": [
       "['USDT',\n",
       " 'USDT',\n",
       " 'BTC',\n",
       " 'BTC',\n",
       " 'BUSD',\n",
       " 'BUSD',\n",
       " 'BNB',\n",
       " 'BNB',\n",
       " 'ETH',\n",
       " 'ETH',\n",
       " 'SLP',\n",
       " 'SLP',\n",
       " 'DAI',\n",
       " 'DAI',\n",
       " 'EOS',\n",
       " 'EOS',\n",
       " 'RUB',\n",
       " 'RUB',\n",
       " 'BIDR',\n",
       " 'BIDR',\n",
       " 'UAH',\n",
       " 'UAH',\n",
       " 'DOGE',\n",
       " 'DOGE',\n",
       " 'NGN',\n",
       " 'NGN']"
      ]
     },
     "execution_count": 175,
     "metadata": {},
     "output_type": "execute_result"
    }
   ],
   "source": [
    "l"
   ]
  },
  {
   "cell_type": "code",
   "execution_count": 177,
   "metadata": {},
   "outputs": [],
   "source": [
    "token = []\n",
    "for i in range(0, len(l), 2):\n",
    "    token.append(l[i])"
   ]
  },
  {
   "cell_type": "code",
   "execution_count": 176,
   "metadata": {},
   "outputs": [
    {
     "data": {
      "text/plain": [
       "26"
      ]
     },
     "execution_count": 176,
     "metadata": {},
     "output_type": "execute_result"
    }
   ],
   "source": [
    "len(l)"
   ]
  },
  {
   "cell_type": "code",
   "execution_count": 178,
   "metadata": {
    "scrolled": true
   },
   "outputs": [
    {
     "data": {
      "text/plain": [
       "['USDT',\n",
       " 'BTC',\n",
       " 'BUSD',\n",
       " 'BNB',\n",
       " 'ETH',\n",
       " 'SLP',\n",
       " 'DAI',\n",
       " 'EOS',\n",
       " 'RUB',\n",
       " 'BIDR',\n",
       " 'UAH',\n",
       " 'DOGE',\n",
       " 'NGN']"
      ]
     },
     "execution_count": 178,
     "metadata": {},
     "output_type": "execute_result"
    }
   ],
   "source": [
    "token"
   ]
  },
  {
   "cell_type": "code",
   "execution_count": 228,
   "metadata": {},
   "outputs": [
    {
     "data": {
      "text/plain": [
       "{'USDT': [],\n",
       " 'BTC': [],\n",
       " 'BUSD': [],\n",
       " 'BNB': [],\n",
       " 'ETH': [],\n",
       " 'SLP': [],\n",
       " 'DAI': [],\n",
       " 'EOS': [],\n",
       " 'RUB': [],\n",
       " 'BIDR': [],\n",
       " 'UAH': [],\n",
       " 'DOGE': [],\n",
       " 'NGN': []}"
      ]
     },
     "execution_count": 228,
     "metadata": {},
     "output_type": "execute_result"
    }
   ],
   "source": [
    "t = {name:[] for name in token}\n",
    "t"
   ]
  },
  {
   "cell_type": "code",
   "execution_count": 179,
   "metadata": {},
   "outputs": [
    {
     "data": {
      "text/plain": [
       "13"
      ]
     },
     "execution_count": 179,
     "metadata": {},
     "output_type": "execute_result"
    }
   ],
   "source": [
    "len(token)"
   ]
  },
  {
   "cell_type": "code",
   "execution_count": 180,
   "metadata": {},
   "outputs": [
    {
     "name": "stdout",
     "output_type": "stream",
     "text": [
      "{'time': {'updated': 'Jul 26, 2021 21:54:00 UTC', 'updatedISO': '2021-07-26T21:54:00+00:00', 'updateduk': 'Jul 26, 2021 at 22:54 BST'}, 'disclaimer': 'This data was produced from the CoinDesk Bitcoin Price Index (USD). Non-USD currency data converted using hourly conversion rate from openexchangerates.org', 'chartName': 'Bitcoin', 'bpi': {'USD': {'code': 'USD', 'symbol': '&#36;', 'rate': '37,259.6050', 'description': 'United States Dollar', 'rate_float': 37259.605}, 'GBP': {'code': 'GBP', 'symbol': '&pound;', 'rate': '26,963.7329', 'description': 'British Pound Sterling', 'rate_float': 26963.7329}, 'EUR': {'code': 'EUR', 'symbol': '&euro;', 'rate': '31,568.6102', 'description': 'Euro', 'rate_float': 31568.6102}}}\n"
     ]
    }
   ],
   "source": [
    "import requests"
   ]
  },
  {
   "cell_type": "code",
   "execution_count": null,
   "metadata": {},
   "outputs": [],
   "source": [
    "https://api.coinmarketcap.com/data-api/v3/cryptocurrency/detail?id=1"
   ]
  },
  {
   "cell_type": "code",
   "execution_count": 224,
   "metadata": {},
   "outputs": [],
   "source": [
    "r = requests.get(\"https://api.coinmarketcap.com/data-api/v3/cryptocurrency/detail?id=1\")"
   ]
  },
  {
   "cell_type": "code",
   "execution_count": 227,
   "metadata": {},
   "outputs": [
    {
     "data": {
      "text/plain": [
       "'BTC'"
      ]
     },
     "execution_count": 227,
     "metadata": {},
     "output_type": "execute_result"
    }
   ],
   "source": [
    "r.json()['data'][\"symbol\"]"
   ]
  },
  {
   "cell_type": "code",
   "execution_count": 248,
   "metadata": {},
   "outputs": [
    {
     "name": "stdout",
     "output_type": "stream",
     "text": [
      "1\n",
      "2\n",
      "3\n",
      "4\n",
      "5\n",
      "6\n",
      "7\n",
      "8\n",
      "9\n",
      "10\n"
     ]
    }
   ],
   "source": [
    "# t = {name:[] for name in token}\n",
    "i = 0\n",
    "# found = 2\n",
    "f = open(\"id.txt\", \"w+\")\n",
    "C\n",
    "f.close()"
   ]
  },
  {
   "cell_type": "code",
   "execution_count": 245,
   "metadata": {},
   "outputs": [
    {
     "data": {
      "text/plain": [
       "{'USDT': [825],\n",
       " 'BTC': [1],\n",
       " 'BUSD': [4687],\n",
       " 'BNB': [1839],\n",
       " 'ETH': [1027],\n",
       " 'SLP': [5824],\n",
       " 'DAI': [4943],\n",
       " 'EOS': [1765],\n",
       " 'RUB': [2806],\n",
       " 'BIDR': [6855],\n",
       " 'UAH': [2824],\n",
       " 'DOGE': [74],\n",
       " 'NGN': [2819]}"
      ]
     },
     "execution_count": 245,
     "metadata": {},
     "output_type": "execute_result"
    }
   ],
   "source": [
    "t"
   ]
  },
  {
   "cell_type": "code",
   "execution_count": 8,
   "metadata": {},
   "outputs": [],
   "source": [
    "t = {'USDT': 825,\n",
    " 'BTC': 1,\n",
    " 'BUSD': 4687,\n",
    " 'BNB': 1839,\n",
    " 'ETH': 1027,\n",
    " 'SLP': 5824,\n",
    " 'DAI': 4943,\n",
    " 'EOS': 1765,\n",
    " 'RUB': 2806,\n",
    " 'BIDR': 6855,\n",
    " 'UAH': 2824,\n",
    " 'DOGE': 74,\n",
    " 'NGN': 2819}"
   ]
  },
  {
   "cell_type": "code",
   "execution_count": 11,
   "metadata": {},
   "outputs": [
    {
     "data": {
      "text/plain": [
       "['USDT',\n",
       " 'BTC',\n",
       " 'BUSD',\n",
       " 'BNB',\n",
       " 'ETH',\n",
       " 'SLP',\n",
       " 'DAI',\n",
       " 'EOS',\n",
       " 'RUB',\n",
       " 'BIDR',\n",
       " 'UAH',\n",
       " 'DOGE',\n",
       " 'NGN']"
      ]
     },
     "execution_count": 11,
     "metadata": {},
     "output_type": "execute_result"
    }
   ],
   "source": [
    "list(t.keys())"
   ]
  },
  {
   "cell_type": "code",
   "execution_count": 251,
   "metadata": {},
   "outputs": [
    {
     "data": {
      "text/plain": [
       "0.0045214041945"
      ]
     },
     "execution_count": 251,
     "metadata": {},
     "output_type": "execute_result"
    }
   ],
   "source": [
    "r.json()[\"data\"][\"statistics\"][\"price\"]"
   ]
  },
  {
   "cell_type": "code",
   "execution_count": 235,
   "metadata": {},
   "outputs": [],
   "source": [
    "r = requests.get(\n",
    "        f\"https://api.coinmarketcap.com/data-api/v3/cryptocurrency/detail?id={i}\"\n",
    "    )"
   ]
  },
  {
   "cell_type": "code",
   "execution_count": null,
   "metadata": {},
   "outputs": [],
   "source": [
    "import requests\n",
    "f = open(\"id.txt\", \"w+\")\n",
    "i = 9428\n",
    "while True:\n",
    "    i+=1\n",
    "    try:\n",
    "        r = requests.get(f\"https://api.coinmarketcap.com/data-api/v3/cryptocurrency/detail?id={i}\")\n",
    "        js = r.json()\n",
    "        f.write(f\"{i} {js['data']['symbol']}\\n\")\n",
    "        print(i)\n",
    "    except:\n",
    "        f.close()\n",
    "        print(i, \"erreur\")\n",
    "        f = open(\"id.txt\", \"w+\")"
   ]
  },
  {
   "cell_type": "code",
   "execution_count": 39,
   "metadata": {},
   "outputs": [],
   "source": [
    "f = open(\"/home/tttienthinh/Documents/Programmation/id.txt\", \"r\")"
   ]
  },
  {
   "cell_type": "code",
   "execution_count": 40,
   "metadata": {},
   "outputs": [],
   "source": [
    "s = f.read()"
   ]
  },
  {
   "cell_type": "code",
   "execution_count": 41,
   "metadata": {},
   "outputs": [],
   "source": [
    "l = s.split()"
   ]
  },
  {
   "cell_type": "code",
   "execution_count": 42,
   "metadata": {
    "scrolled": true
   },
   "outputs": [],
   "source": [
    "d = {}\n",
    "for i in range(int(len(l)/2)):\n",
    "    try:\n",
    "        d[l[2*i+1]] = int(l[2*i])\n",
    "    except:\n",
    "        print(i)\n",
    "               "
   ]
  },
  {
   "cell_type": "code",
   "execution_count": 43,
   "metadata": {},
   "outputs": [
    {
     "data": {
      "text/plain": [
       "7806"
      ]
     },
     "execution_count": 43,
     "metadata": {},
     "output_type": "execute_result"
    }
   ],
   "source": [
    "len(d)"
   ]
  },
  {
   "cell_type": "code",
   "execution_count": 46,
   "metadata": {},
   "outputs": [],
   "source": [
    "json.dump(d, open(\"id.json\",\"w\"))"
   ]
  },
  {
   "cell_type": "code",
   "execution_count": 48,
   "metadata": {},
   "outputs": [],
   "source": [
    "import requests\n",
    "r = requests.get(\"https://raw.githubusercontent.com/tttienthinh/CoinMarketCap/main/id.json\")"
   ]
  },
  {
   "cell_type": "code",
   "execution_count": 49,
   "metadata": {},
   "outputs": [
    {
     "data": {
      "text/plain": [
       "{'BTC': 1,\n",
       " 'LTC': 2,\n",
       " 'NMC': 3,\n",
       " 'TRC': 4,\n",
       " 'PPC': 6253,\n",
       " 'NVC': 6,\n",
       " 'DVC': 5902,\n",
       " 'FTC': 8,\n",
       " 'MNC': 3774,\n",
       " 'FRC': 10,\n",
       " 'BQC': 12,\n",
       " 'IXC': 13,\n",
       " 'BTB': 3687,\n",
       " 'BTE': 6015,\n",
       " 'WDC': 5178,\n",
       " 'YAC': 17,\n",
       " 'DGC': 18,\n",
       " 'FRK': 19,\n",
       " 'ELC': 1911,\n",
       " 'LKY': 3178,\n",
       " 'NBL': 23,\n",
       " 'AMC': 8343,\n",
       " 'GLC': 51,\n",
       " 'JKC': 26,\n",
       " 'HYC': 3147,\n",
       " 'DBL': 8109,\n",
       " 'CAP': 8076,\n",
       " 'NRB': 30,\n",
       " 'ARG': 31,\n",
       " 'FST': 8961,\n",
       " 'EZC': 33,\n",
       " 'BTG': 2083,\n",
       " 'PXC': 2670,\n",
       " 'ALF': 36,\n",
       " 'MEC': 37,\n",
       " 'KGC': 4291,\n",
       " 'CRC': 5930,\n",
       " 'SBC': 2259,\n",
       " 'IFC': 41,\n",
       " 'XPM': 42,\n",
       " 'ANC': 8857,\n",
       " 'NAN': 6529,\n",
       " 'CSC': 45,\n",
       " 'XNC': 5060,\n",
       " 'SPT': 3777,\n",
       " 'LBW': 48,\n",
       " 'CBX': 49,\n",
       " 'EMD': 50,\n",
       " 'XRP': 52,\n",
       " 'QRK': 53,\n",
       " 'GME': 8342,\n",
       " 'GIL': 55,\n",
       " 'ZET': 56,\n",
       " 'SRC': 6465,\n",
       " 'SXC': 6013,\n",
       " 'TIX': 1873,\n",
       " 'CLR': 4681,\n",
       " 'TAG': 61,\n",
       " 'PTS': 3043,\n",
       " 'I0C': 63,\n",
       " 'PIN': 64,\n",
       " 'COL': 5890,\n",
       " 'NXT': 66,\n",
       " 'UNO': 8875,\n",
       " 'XJO': 68,\n",
       " 'DTC': 6553,\n",
       " 'BET': 5487,\n",
       " 'GDC': 4678,\n",
       " 'DEM': 72,\n",
       " 'ELP': 73,\n",
       " 'DOGE': 74,\n",
       " 'NET': 3788,\n",
       " 'PHS': 76,\n",
       " 'DMD': 6963,\n",
       " 'HBN': 78,\n",
       " 'TGC': 79,\n",
       " 'ORB': 7299,\n",
       " 'MMC': 81,\n",
       " 'LOT': 4285,\n",
       " 'OMNI': 83,\n",
       " 'CAT': 6649,\n",
       " 'EAC': 85,\n",
       " 'ASC': 86,\n",
       " 'TIPS': 87,\n",
       " 'RPC': 88,\n",
       " 'MOON': 7017,\n",
       " 'DIME': 90,\n",
       " 'FZ': 6453,\n",
       " 'XIV': 8746,\n",
       " '42': 93,\n",
       " 'QQC': 94,\n",
       " 'YBC': 95,\n",
       " 'EXC': 3039,\n",
       " 'ETOK': 97,\n",
       " 'GRA': 98,\n",
       " 'VTC': 99,\n",
       " 'PRT': 7348,\n",
       " 'KDC': 101,\n",
       " 'MEOW': 102,\n",
       " 'RED': 2771,\n",
       " 'ASR': 6752,\n",
       " 'VEL': 105,\n",
       " 'BCX': 2281,\n",
       " 'LEAF': 107,\n",
       " 'STR': 8909,\n",
       " 'DGB': 109,\n",
       " 'CON': 9014,\n",
       " 'USDE': 5968,\n",
       " 'PXL': 4091,\n",
       " 'SMC': 113,\n",
       " 'TES': 114,\n",
       " 'APC': 3512,\n",
       " 'KARMA': 5935,\n",
       " 'NOBL': 117,\n",
       " 'RDD': 118,\n",
       " 'TEA': 119,\n",
       " 'NYAN': 8473,\n",
       " 'UTC': 121,\n",
       " 'POT': 8468,\n",
       " 'ZTC': 5287,\n",
       " 'VOLT': 1657,\n",
       " 'BLC': 7291,\n",
       " 'UNI': 7083,\n",
       " 'RPD': 3432,\n",
       " 'MAX': 6560,\n",
       " 'Q2C': 129,\n",
       " 'HUC': 130,\n",
       " 'DASH': 131,\n",
       " 'XCP': 132,\n",
       " 'PANDA': 133,\n",
       " 'CACH': 134,\n",
       " 'TOP': 8115,\n",
       " 'PMC': 136,\n",
       " 'CENT': 3681,\n",
       " 'ICN': 1408,\n",
       " 'GRCX': 139,\n",
       " 'PAND': 140,\n",
       " 'MINT': 8423,\n",
       " 'ARI': 142,\n",
       " 'PRC': 4181,\n",
       " 'CORG': 144,\n",
       " 'DOPE': 145,\n",
       " 'CGA': 146,\n",
       " 'PENG': 3278,\n",
       " 'AUR': 8831,\n",
       " 'ZED': 149,\n",
       " 'ANI': 8394,\n",
       " 'PTD': 9039,\n",
       " 'FLAP': 152,\n",
       " 'DUCK': 8063,\n",
       " 'MARS': 7579,\n",
       " 'MRC': 8415,\n",
       " '66': 156,\n",
       " 'CAGE': 157,\n",
       " 'BIL': 158,\n",
       " 'CASH': 5038,\n",
       " 'RIC': 160,\n",
       " 'PND': 9347,\n",
       " 'MIM': 162,\n",
       " 'ORO': 7684,\n",
       " 'MAZA': 164,\n",
       " 'BEN': 3289,\n",
       " 'TAK': 166,\n",
       " 'FRY': 6119,\n",
       " 'UFO': 5403,\n",
       " 'CTM': 169,\n",
       " 'BLK': 170,\n",
       " 'BAT1': 171,\n",
       " 'GRUMP': 172,\n",
       " 'FOX': 9239,\n",
       " 'LTB': 5047,\n",
       " 'PHO': 8379,\n",
       " 'UNC': 5948,\n",
       " 'MRY': 177,\n",
       " 'THOR': 8663,\n",
       " 'GLB': 180,\n",
       " 'ZEIT': 181,\n",
       " 'XMY': 182,\n",
       " 'LGBT': 183,\n",
       " 'NOTE': 6206,\n",
       " 'EXE': 5620,\n",
       " 'LPC': 2974,\n",
       " 'PIG': 8829,\n",
       " 'FCK': 188,\n",
       " 'SAT': 6533,\n",
       " 'SYN': 7520,\n",
       " 'HVC': 191,\n",
       " 'NC2': 192,\n",
       " 'EBT': 4216,\n",
       " 'OSC': 4203,\n",
       " 'MTC': 6498,\n",
       " 'SPA': 6715,\n",
       " 'NDL': 197,\n",
       " 'KRN': 198,\n",
       " 'SKC': 5533,\n",
       " 'FRQ': 200,\n",
       " 'EMC2': 201,\n",
       " 'HEX': 5015,\n",
       " 'ALN': 5544,\n",
       " 'ZEU': 204,\n",
       " 'BTCS': 2102,\n",
       " 'CNO': 206,\n",
       " 'CR': 207,\n",
       " 'EMU': 208,\n",
       " 'EMO': 209,\n",
       " 'GPUC': 210,\n",
       " 'STC': 5966,\n",
       " 'ECC': 212,\n",
       " 'MONA': 7866,\n",
       " 'RBY': 215,\n",
       " 'GAC': 216,\n",
       " 'BELA': 217,\n",
       " 'FLT': 5069,\n",
       " 'STL': 219,\n",
       " 'APH': 2684,\n",
       " '888': 6051,\n",
       " '10-5': 222,\n",
       " 'MTS': 7778,\n",
       " 'FAIR': 9088,\n",
       " 'GHC': 668,\n",
       " 'SOC': 5126,\n",
       " 'XSV': 227,\n",
       " 'GRCE': 228,\n",
       " 'GOX': 229,\n",
       " 'HIRO': 230,\n",
       " 'PAWN': 231,\n",
       " 'GER': 232,\n",
       " 'SLR': 233,\n",
       " 'EFL': 234,\n",
       " 'MCR': 2016,\n",
       " 'NEC': 2538,\n",
       " 'BLTZ': 237,\n",
       " 'BNS': 5989,\n",
       " 'DEL': 239,\n",
       " 'BONES': 240,\n",
       " 'RT2': 241,\n",
       " 'HKC': 242,\n",
       " 'BTL': 243,\n",
       " 'EDU': 2951,\n",
       " 'H2O': 245,\n",
       " 'DOUG': 246,\n",
       " 'KAR': 247,\n",
       " 'PCN': 1803,\n",
       " 'CESC': 249,\n",
       " 'FC': 9078,\n",
       " 'ISR': 3466,\n",
       " '365': 253,\n",
       " 'NLG': 254,\n",
       " 'SRG': 255,\n",
       " 'MUN': 256,\n",
       " 'PLC': 3364,\n",
       " 'GRS': 258,\n",
       " 'LYC': 259,\n",
       " 'XPD': 3576,\n",
       " 'ADN': 4057,\n",
       " 'LOVE': 6615,\n",
       " 'PLNC': 263,\n",
       " 'CAIx': 264,\n",
       " 'COMM': 265,\n",
       " 'CC': 6469,\n",
       " 'NAS': 1908,\n",
       " 'XWC': 268,\n",
       " 'AC': 7382,\n",
       " 'HOT': 3836,\n",
       " 'CATC': 271,\n",
       " 'NRS': 272,\n",
       " 'KSC': 6493,\n",
       " 'CINNI': 274,\n",
       " 'POP': 7363,\n",
       " 'BITS': 9023,\n",
       " 'XSI': 277,\n",
       " 'QBC': 278,\n",
       " 'CCN': 3770,\n",
       " 'YC': 280,\n",
       " 'WATER': 8860,\n",
       " 'SPD': 2828,\n",
       " 'GDN': 283,\n",
       " 'DIEM': 4022,\n",
       " 'LGC': 7682,\n",
       " 'LGD': 286,\n",
       " 'SLOTH': 8435,\n",
       " 'HIC': 288,\n",
       " 'LC': 289,\n",
       " 'BLU': 290,\n",
       " 'MAID': 291,\n",
       " 'CCX': 3732,\n",
       " 'XBC': 293,\n",
       " 'ZS': 294,\n",
       " 'TALK': 295,\n",
       " 'XXL': 296,\n",
       " 'SMB': 297,\n",
       " 'NYC': 298,\n",
       " 'SHIBE': 299,\n",
       " 'UVC': 300,\n",
       " 'BDG': 2374,\n",
       " 'VMC': 4833,\n",
       " 'VGC': 303,\n",
       " 'CDN': 304,\n",
       " 'SHARE': 6868,\n",
       " 'SILK': 306,\n",
       " 'STY': 307,\n",
       " 'CRT': 8033,\n",
       " 'SUM': 5823,\n",
       " 'PLX': 3461,\n",
       " 'OMC': 5818,\n",
       " 'GUN': 312,\n",
       " 'PINK': 313,\n",
       " 'OC': 2483,\n",
       " 'XLB': 3841,\n",
       " 'DRM': 5837,\n",
       " 'CFC': 317,\n",
       " 'YIN': 318,\n",
       " 'YANG': 319,\n",
       " 'ITC': 2251,\n",
       " 'NAUT': 8770,\n",
       " 'ENRG': 322,\n",
       " 'VRC': 323,\n",
       " 'RTC': 324,\n",
       " 'TEK': 325,\n",
       " 'CHA': 5063,\n",
       " 'MON': 5066,\n",
       " 'XMR': 328,\n",
       " 'SYNC': 7812,\n",
       " 'HC': 2412,\n",
       " 'LCP': 331,\n",
       " 'JPC': 332,\n",
       " 'CURE': 8326,\n",
       " 'UNB': 7846,\n",
       " 'XC': 335,\n",
       " 'H5C': 336,\n",
       " 'CRYPT': 337,\n",
       " 'QCN': 338,\n",
       " 'MAST': 339,\n",
       " 'AIM': 5918,\n",
       " 'SUPER': 8290,\n",
       " 'QB': 342,\n",
       " 'XDQ': 343,\n",
       " 'QORA': 344,\n",
       " 'BST': 6231,\n",
       " 'SCOT': 346,\n",
       " 'SPC': 7391,\n",
       " 'HBC': 7073,\n",
       " 'METH': 8907,\n",
       " 'BOST': 350,\n",
       " 'CTZ': 351,\n",
       " 'ENC': 4350,\n",
       " 'HYPER': 9309,\n",
       " 'DIS': 8310,\n",
       " 'WIN': 7139,\n",
       " 'BTQ': 356,\n",
       " 'MMXIV': 357,\n",
       " 'LTCX': 358,\n",
       " 'SHOP': 2839,\n",
       " 'MOTO': 360,\n",
       " 'LOL': 4936,\n",
       " 'CLOAK': 362,\n",
       " 'DCM': 363,\n",
       " 'BN': 364,\n",
       " 'MAGIC': 365,\n",
       " 'BSD': 8074,\n",
       " 'C2': 367,\n",
       " 'FAIL': 5301,\n",
       " 'KTK': 369,\n",
       " 'FCN': 370,\n",
       " 'LCL': 371,\n",
       " 'BCN': 372,\n",
       " 'GOOD': 1752,\n",
       " 'ABY': 374,\n",
       " 'VOOT': 375,\n",
       " 'MAMM': 376,\n",
       " 'NAV': 377,\n",
       " 'NTR': 3950,\n",
       " 'MUGA': 379,\n",
       " 'URO': 380,\n",
       " 'FC2': 381,\n",
       " 'GRN': 2746,\n",
       " 'BURN': 4069,\n",
       " 'ELT': 7884,\n",
       " 'DON': 8814,\n",
       " 'PIGGY': 386,\n",
       " 'HMY': 387,\n",
       " 'SFR': 7205,\n",
       " 'START': 8662,\n",
       " 'DRS': 5796,\n",
       " 'FRAC': 391,\n",
       " 'MYC': 9374,\n",
       " 'GLYPH': 393,\n",
       " 'TAC': 3227,\n",
       " 'RZR': 395,\n",
       " 'GOAL': 396,\n",
       " 'WVS': 397,\n",
       " 'DEPRECATEDBCH': 398,\n",
       " 'MIN': 3296,\n",
       " 'KORE': 7464,\n",
       " 'GUE': 401,\n",
       " 'GRE': 402,\n",
       " 'VEIL': 3830,\n",
       " 'OPC': 2355,\n",
       " 'XDN': 405,\n",
       " 'BBR': 8401,\n",
       " 'NEM': 407,\n",
       " 'OTC': 409,\n",
       " 'MNR': 6053,\n",
       " 'SHA': 3831,\n",
       " 'XGR': 412,\n",
       " 'DIG': 2659,\n",
       " 'VVV': 414,\n",
       " 'BLZ': 2505,\n",
       " 'THC': 6530,\n",
       " 'COOL': 417,\n",
       " 'TECH': 418,\n",
       " 'GML': 419,\n",
       " 'ROX': 3325,\n",
       " 'EUROPA': 421,\n",
       " 'BBL': 422,\n",
       " 'MCN': 7482,\n",
       " 'SING': 424,\n",
       " 'NTX': 8500,\n",
       " 'BRIT': 426,\n",
       " 'XXX': 2983,\n",
       " 'UNVC': 428,\n",
       " 'SIS': 429,\n",
       " 'SAT2': 430,\n",
       " 'LIT': 6833,\n",
       " 'CYC': 8590,\n",
       " 'MAIA': 433,\n",
       " 'AM': 434,\n",
       " 'RIOT': 435,\n",
       " 'IPC': 2433,\n",
       " 'JUDGE': 437,\n",
       " 'PHC': 5710,\n",
       " 'ASCE': 439,\n",
       " 'LAT': 440,\n",
       " 'CAC': 441,\n",
       " 'ULT': 5330,\n",
       " 'FRX': 443,\n",
       " 'FIMK': 444,\n",
       " 'X14': 445,\n",
       " 'NFD': 446,\n",
       " 'ISIS': 447,\n",
       " 'XST': 8330,\n",
       " 'ICB': 449,\n",
       " 'TRUST': 9206,\n",
       " 'TOR': 5518,\n",
       " 'N5X': 452,\n",
       " 'SHLD': 8450,\n",
       " 'AGS': 454,\n",
       " 'FRSH': 455,\n",
       " 'CHCC': 456,\n",
       " 'CSO': 5852,\n",
       " 'NOAH': 458,\n",
       " 'MACD': 459,\n",
       " 'CLAM': 460,\n",
       " 'QTL': 461,\n",
       " 'XBL': 1981,\n",
       " 'BTS': 8205,\n",
       " 'XAN': 464,\n",
       " 'SHC': 465,\n",
       " 'HZ': 466,\n",
       " 'BTCD': 467,\n",
       " 'TRK': 468,\n",
       " 'FOOD': 3041,\n",
       " 'VIA': 470,\n",
       " 'AR': 5632,\n",
       " 'KEY': 9302,\n",
       " 'APEX': 473,\n",
       " 'MIL': 877,\n",
       " 'CNL': 475,\n",
       " 'FIRE': 8129,\n",
       " 'TRI': 7995,\n",
       " 'PSEUD': 478,\n",
       " 'PES': 479,\n",
       " 'TCO': 8556,\n",
       " 'JLH': 481,\n",
       " 'LION': 8009,\n",
       " 'ELITE': 2101,\n",
       " 'GBC': 2952,\n",
       " 'LTS': 1098,\n",
       " 'BMY': 486,\n",
       " 'DRKC': 487,\n",
       " 'ESC': 2338,\n",
       " 'USB': 489,\n",
       " 'BNCR': 490,\n",
       " 'PZR': 491,\n",
       " 'PRO': 1974,\n",
       " 'SDC': 493,\n",
       " 'TMT': 7246,\n",
       " 'IOC': 495,\n",
       " 'RIN': 496,\n",
       " 'KUMA': 497,\n",
       " 'FCC': 498,\n",
       " 'NUE': 499,\n",
       " 'ATC': 8073,\n",
       " 'XCN': 501,\n",
       " 'CARBON': 502,\n",
       " 'DOOM': 6063,\n",
       " '[Deprecated]BOOM': 504,\n",
       " 'EKITA': 505,\n",
       " 'CANN': 506,\n",
       " 'ICG': 507,\n",
       " 'XAP': 3159,\n",
       " 'LXC': 510,\n",
       " 'UPM': 511,\n",
       " 'XLM': 512,\n",
       " 'TIT': 513,\n",
       " 'QUID': 514,\n",
       " 'ZIPC': 515,\n",
       " 'ZCC': 8208,\n",
       " 'GPC': 517,\n",
       " 'RVC': 5713,\n",
       " 'VC': 519,\n",
       " 'VTA': 520,\n",
       " 'RODS': 521,\n",
       " 'DOS': 5942,\n",
       " 'UNAT': 523,\n",
       " 'XCLD': 524,\n",
       " 'HYP': 525,\n",
       " 'COCO': 526,\n",
       " 'MWC': 5031,\n",
       " 'ETHAN': 528,\n",
       " 'QBK': 1682,\n",
       " 'SSD': 530,\n",
       " 'VAULT': 5003,\n",
       " 'NXTTY': 532,\n",
       " 'BLKT': 533,\n",
       " 'MNS': 9356,\n",
       " 'THEO': 535,\n",
       " 'J': 536,\n",
       " 'MGWBTC': 537,\n",
       " 'SHOPX': 8863,\n",
       " 'SOLE': 539,\n",
       " 'CLSTR': 540,\n",
       " 'SYS': 541,\n",
       " 'INT': 2399,\n",
       " 'BTM': 1866,\n",
       " 'RAW': 544,\n",
       " 'HAL': 545,\n",
       " 'NUD': 546,\n",
       " 'DRX': 547,\n",
       " 'PYRA': 548,\n",
       " 'SJCX': 549,\n",
       " 'LTBC': 550,\n",
       " 'DONU': 551,\n",
       " 'BIG': 552,\n",
       " 'XDE': 553,\n",
       " 'CAPT': 554,\n",
       " 'FZN': 555,\n",
       " 'MGW': 556,\n",
       " 'RIPO': 557,\n",
       " 'EMC': 7663,\n",
       " 'GB': 1285,\n",
       " 'USE': 3249,\n",
       " 'BILS': 562,\n",
       " 'ROOT': 8077,\n",
       " 'XURO': 564,\n",
       " 'BOB': 2889,\n",
       " 'AXR': 566,\n",
       " 'XDP': 567,\n",
       " 'ULTC': 568,\n",
       " 'XBM': 569,\n",
       " 'FIBRE': 570,\n",
       " 'SNET': 3435,\n",
       " 'RBBT': 572,\n",
       " 'SIGNA': 573,\n",
       " 'AID': 2462,\n",
       " 'MNTA': 575,\n",
       " 'GAME': 576,\n",
       " 'NWO': 577,\n",
       " 'TRDR': 578,\n",
       " 'CNMT': 579,\n",
       " 'WACG': 580,\n",
       " 'PROZ': 582,\n",
       " 'SHADE': 3401,\n",
       " 'N8V': 584,\n",
       " 'DEPRECATEDDOT': 585,\n",
       " 'BGR': 586,\n",
       " 'CIN': 587,\n",
       " 'UBQ': 588,\n",
       " 'XBOT': 589,\n",
       " 'SSV': 590,\n",
       " 'SOL': 5426,\n",
       " 'LTCD': 592,\n",
       " 'XCASH': 3334,\n",
       " 'BUN': 594,\n",
       " 'NODE': 4773,\n",
       " 'MCC': 7704,\n",
       " 'OPAL': 597,\n",
       " 'LSD': 598,\n",
       " 'DCN': 1876,\n",
       " 'NBE': 600,\n",
       " 'ACOIN': 5465,\n",
       " 'RSU': 602,\n",
       " 'DEX': 3515,\n",
       " 'SF0': 604,\n",
       " 'TAT': 7537,\n",
       " 'FLDC': 606,\n",
       " 'SWARM': 607,\n",
       " 'GNS': 608,\n",
       " 'DT': 6416,\n",
       " 'MLS': 610,\n",
       " 'VEX': 2998,\n",
       " 'TOKEN': 1311,\n",
       " 'CKC': 613,\n",
       " 'CRACK': 614,\n",
       " 'VLTY': 615,\n",
       " 'RSCC': 617,\n",
       " 'CHILD': 618,\n",
       " 'ORTHO': 619,\n",
       " 'ATOMIC': 620,\n",
       " 'MRKT': 621,\n",
       " 'NXTV': 622,\n",
       " 'BITUSD': 623,\n",
       " 'BITCNY': 624,\n",
       " 'BITBTC': 625,\n",
       " 'USNBT': 626,\n",
       " 'SLG': 627,\n",
       " 'BCT': 4608,\n",
       " 'XMG': 629,\n",
       " 'MID': 630,\n",
       " 'UTIL': 631,\n",
       " 'ROS': 5730,\n",
       " 'EXCL': 633,\n",
       " 'LKNX': 634,\n",
       " 'VIK': 635,\n",
       " 'PLCN': 636,\n",
       " 'RUBLE': 637,\n",
       " 'TROLL': 638,\n",
       " 'HRNXT': 639,\n",
       " 'CRAIG': 640,\n",
       " 'SKULL': 1756,\n",
       " 'BANX': 642,\n",
       " 'UNITY': 643,\n",
       " 'BSTY': 644,\n",
       " 'JINN': 645,\n",
       " 'ETC': 1321,\n",
       " 'NXTprivacy': 647,\n",
       " 'Privatebet': 648,\n",
       " 'NXTcoinsco': 649,\n",
       " 'VTX': 8661,\n",
       " 'MARYJ': 651,\n",
       " 'XCH': 9258,\n",
       " 'BVC': 653,\n",
       " 'DP': 654,\n",
       " 'ACH': 6958,\n",
       " 'PXI': 656,\n",
       " 'SPUDS': 657,\n",
       " 'BUK': 658,\n",
       " 'DSH': 660,\n",
       " 'ARCH': 7750,\n",
       " 'DPC': 8093,\n",
       " 'GHOST': 5475,\n",
       " 'SEED': 9377,\n",
       " 'VDO': 665,\n",
       " 'AU': 666,\n",
       " 'NXTI': 667,\n",
       " 'WSTL': 669,\n",
       " 'LMR': 670,\n",
       " 'GAIA': 671,\n",
       " 'KRYP': 672,\n",
       " 'ABC2': 673,\n",
       " 'DOGEBC': 674,\n",
       " 'BDSM': 675,\n",
       " 'FETISH': 676,\n",
       " 'CZC': 677,\n",
       " 'MCL': 678,\n",
       " 'SMBR': 679,\n",
       " 'STV': 8883,\n",
       " 'PMP': 9090,\n",
       " 'DOLP': 682,\n",
       " 'WLF': 5232,\n",
       " 'GLOW': 684,\n",
       " 'VOXP': 685,\n",
       " 'MMNXT': 686,\n",
       " 'NXTMOVIE': 687,\n",
       " 'MED': 2303,\n",
       " 'LTC2NXT': 689,\n",
       " 'CND': 5569,\n",
       " 'SPARK': 691,\n",
       " 'MRJA': 692,\n",
       " 'XVG': 693,\n",
       " 'XTC': 694,\n",
       " 'MNE': 1673,\n",
       " 'DSB': 696,\n",
       " 'NOPE': 697,\n",
       " 'LAB': 698,\n",
       " 'NSR': 699,\n",
       " 'FFC': 700,\n",
       " 'HAM': 701,\n",
       " 'SPR': 702,\n",
       " 'RBT': 703,\n",
       " 'XWT': 704,\n",
       " 'DANK': 9041,\n",
       " 'MUE': 706,\n",
       " 'BLOCK': 707,\n",
       " 'GAP': 4694,\n",
       " 'XSTC': 1506,\n",
       " 'ONE': 6510,\n",
       " 'BALLS': 7666,\n",
       " 'REKT': 712,\n",
       " 'UROD': 713,\n",
       " 'SCSY': 715,\n",
       " 'ETD': 716,\n",
       " 'DICE': 6710,\n",
       " 'XNAN': 718,\n",
       " 'VIP': 4201,\n",
       " 'CRW': 720,\n",
       " 'KPS': 721,\n",
       " 'QSLV': 722,\n",
       " 'BAY': 723,\n",
       " 'U': 725,\n",
       " 'DORCS': 726,\n",
       " 'YUM': 727,\n",
       " 'HLC': 2480,\n",
       " 'BLITZ': 729,\n",
       " 'GCN': 730,\n",
       " 'GRW': 731,\n",
       " 'DIO': 3908,\n",
       " 'XQN': 733,\n",
       " 'BYC': 734,\n",
       " 'VASH': 735,\n",
       " 'GSX': 736,\n",
       " 'VIOR': 737,\n",
       " 'WGS': 738,\n",
       " 'GUA': 739,\n",
       " 'PFC': 740,\n",
       " 'FIND': 6443,\n",
       " 'MAL': 742,\n",
       " 'EUPH': 743,\n",
       " 'DEAF': 744,\n",
       " 'DARK': 7325,\n",
       " 'ALI': 3248,\n",
       " 'BCF': 747,\n",
       " 'NOXT': 748,\n",
       " 'PYC': 749,\n",
       " 'CHASH': 750,\n",
       " 'PANGEA': 751,\n",
       " 'SIA': 752,\n",
       " 'BITHAUS': 753,\n",
       " 'BEAR': 6934,\n",
       " 'HRL': 755,\n",
       " 'LTC2NXT3': 756,\n",
       " 'SKYNET': 757,\n",
       " 'KING': 758,\n",
       " 'EVENT': 759,\n",
       " 'OK': 760,\n",
       " 'GROW': 761,\n",
       " 'SPHERE': 762,\n",
       " 'DS': 763,\n",
       " 'XPY': 764,\n",
       " 'CFN': 765,\n",
       " 'VTR': 766,\n",
       " 'ERM': 767,\n",
       " 'OPALTKN': 768,\n",
       " 'XUSD': 8316,\n",
       " 'CCS': 770,\n",
       " 'NOO': 771,\n",
       " 'CXC': 4955,\n",
       " 'XAI': 773,\n",
       " 'NKT': 774,\n",
       " 'BTMI': 775,\n",
       " 'SBIT': 776,\n",
       " '2015': 777,\n",
       " 'BITGOLD': 778,\n",
       " 'GEMZ': 779,\n",
       " 'XSP': 7111,\n",
       " 'UIS': 781,\n",
       " 'CZR': 3040,\n",
       " 'VULT': 783,\n",
       " 'XBS': 784,\n",
       " 'GP': 1675,\n",
       " 'TTY': 786,\n",
       " 'CAM': 4425,\n",
       " 'COVAL': 788,\n",
       " 'NXS': 789,\n",
       " 'FSC2': 790,\n",
       " 'EAGS': 791,\n",
       " 'BDC': 792,\n",
       " 'CELL': 8992,\n",
       " 'B1BL3': 794,\n",
       " 'SOON': 795,\n",
       " 'METAL': 796,\n",
       " 'NKA': 797,\n",
       " 'CFS': 798,\n",
       " 'SMLY': 799,\n",
       " 'DGD': 1229,\n",
       " 'WETK': 801,\n",
       " 'CETI': 802,\n",
       " 'STK': 4595,\n",
       " 'AMBER': 804,\n",
       " 'BCENT': 805,\n",
       " '10K': 806,\n",
       " 'OMA': 807,\n",
       " 'MYST': 1721,\n",
       " 'XTR': 809,\n",
       " 'LQD': 3499,\n",
       " 'DEBUNE': 811,\n",
       " 'MAC': 3895,\n",
       " 'BITSILVER': 813,\n",
       " 'DEPRECATEDDOTDOT': 4129,\n",
       " 'KOBO': 815,\n",
       " 'NTC': 2116,\n",
       " 'SLM': 8268,\n",
       " 'BITB': 819,\n",
       " 'PEN1': 820,\n",
       " 'GIVE': 4415,\n",
       " 'GRID': 2134,\n",
       " 'GEO': 5590,\n",
       " 'GLIDE': 824,\n",
       " 'USDT': 825,\n",
       " 'ADD': 5834,\n",
       " 'XPL': 827,\n",
       " 'VOYA': 828,\n",
       " 'ECASH': 2048,\n",
       " 'RISK': 830,\n",
       " 'WBB': 831,\n",
       " 'MTR': 6627,\n",
       " 'GRC': 833,\n",
       " 'GSM': 834,\n",
       " 'ZRC': 1726,\n",
       " 'XVC': 836,\n",
       " 'XCO': 837,\n",
       " 'ILT': 838,\n",
       " 'SMAC': 839,\n",
       " 'CCC': 4000,\n",
       " 'SAK': 5201,\n",
       " 'BITZ': 842,\n",
       " '$MINE': 843,\n",
       " '$MINEW': 844,\n",
       " '$MINEZ': 845,\n",
       " 'UCI': 846,\n",
       " 'XSL': 847,\n",
       " 'BEL': 6928,\n",
       " 'ASN': 1848,\n",
       " 'TWIST': 3185,\n",
       " 'XAU': 3575,\n",
       " 'NXTSCO': 852,\n",
       " 'LDOGE': 853,\n",
       " 'CV2': 854,\n",
       " 'WOCX': 856,\n",
       " 'SONG': 857,\n",
       " 'XRC': 3839,\n",
       " 'LOG': 859,\n",
       " 'QUIT': 860,\n",
       " 'PLANET': 861,\n",
       " 'ZIRK': 862,\n",
       " 'NXE': 863,\n",
       " 'BTCRY': 864,\n",
       " 'SLFI': 865,\n",
       " 'POW': 6433,\n",
       " 'MCZ': 867,\n",
       " 'OCTO': 7202,\n",
       " 'CRAVE': 869,\n",
       " 'PURA': 870,\n",
       " 'ANAL': 871,\n",
       " 'BCR': 5535,\n",
       " 'XEM': 873,\n",
       " 'XPB': 8783,\n",
       " 'URC': 875,\n",
       " 'TRICK': 876,\n",
       " 'CRY': 880,\n",
       " 'EKN': 881,\n",
       " 'CYP': 882,\n",
       " 'TRON': 883,\n",
       " 'P7C': 884,\n",
       " 'HZT': 6214,\n",
       " 'GIZ': 886,\n",
       " 'XDB': 4566,\n",
       " 'JAY': 8203,\n",
       " 'MRCAM': 889,\n",
       " '8BIT': 890,\n",
       " 'PLUGIN': 891,\n",
       " 'LEA': 892,\n",
       " 'SLING': 893,\n",
       " 'NTRN': 894,\n",
       " 'XAUR': 895,\n",
       " 'COV': 2342,\n",
       " 'XSEED': 897,\n",
       " 'CF': 898,\n",
       " 'TP1': 899,\n",
       " '007': 900,\n",
       " 'LUX': 2107,\n",
       " 'HUGE': 902,\n",
       " 'SIGU': 903,\n",
       " 'BTX': 3586,\n",
       " 'QTZ': 906,\n",
       " 'EGMA': 907,\n",
       " 'DRZ': 908,\n",
       " 'IEC': 909,\n",
       " 'XMS': 910,\n",
       " 'AIB': 6072,\n",
       " 'EGG': 8449,\n",
       " 'DOX': 913,\n",
       " 'SPHR': 914,\n",
       " 'GPH': 915,\n",
       " 'MEDIC': 916,\n",
       " 'CHIPS': 1986,\n",
       " 'BUB': 918,\n",
       " 'GRAV': 919,\n",
       " 'XSD': 920,\n",
       " 'UNIT': 9137,\n",
       " 'TEETH': 922,\n",
       " 'VIRAL': 923,\n",
       " 'SHELL': 7499,\n",
       " 'BTI': 3075,\n",
       " 'BGCAFFE': 926,\n",
       " 'CLV': 8384,\n",
       " 'FCS': 928,\n",
       " 'EPY': 2172,\n",
       " '16BIT': 930,\n",
       " 'DCC': 4501,\n",
       " 'TB': 932,\n",
       " 'CTO': 933,\n",
       " 'PKB': 934,\n",
       " 'M1': 935,\n",
       " 'TNG': 936,\n",
       " 'STX': 4847,\n",
       " 'ARB': 2985,\n",
       " 'GAM': 939,\n",
       " 'ABC': 1256,\n",
       " 'TRMB': 941,\n",
       " 'VARY': 942,\n",
       " 'EQM': 944,\n",
       " 'BTA': 8957,\n",
       " 'TWLV': 946,\n",
       " 'GREED': 947,\n",
       " 'ADC': 948,\n",
       " 'FIST': 949,\n",
       " 'NANAS': 950,\n",
       " 'SNRG': 951,\n",
       " 'XPH': 4383,\n",
       " 'BXB': 953,\n",
       " 'BITEUR': 954,\n",
       " 'DRKT': 955,\n",
       " 'XCE': 956,\n",
       " 'VCN': 957,\n",
       " 'G3N': 958,\n",
       " 'UNIC': 959,\n",
       " 'FJC': 960,\n",
       " 'CIRC': 961,\n",
       " 'GLOBE': 962,\n",
       " 'CORE': 7242,\n",
       " 'ERC': 964,\n",
       " 'FUNK': 965,\n",
       " 'HUN': 966,\n",
       " 'GTFO': 967,\n",
       " 'BOD': 968,\n",
       " 'INDEX': 7336,\n",
       " 'DIBS': 971,\n",
       " 'XFC': 3663,\n",
       " 'GENI': 973,\n",
       " 'POLY': 2496,\n",
       " 'TAM': 975,\n",
       " 'GRM': 976,\n",
       " 'GXX': 977,\n",
       " 'XRA': 3234,\n",
       " 'BUCKS': 1142,\n",
       " 'DUB': 980,\n",
       " 'XVI': 981,\n",
       " 'WS': 982,\n",
       " 'MTLMC3': 983,\n",
       " 'HEDG': 3662,\n",
       " 'LFO': 985,\n",
       " 'CREVA': 986,\n",
       " 'VERSA': 987,\n",
       " 'IRL': 988,\n",
       " 'MMBTCD': 989,\n",
       " 'ZNY': 990,\n",
       " 'FIC': 8383,\n",
       " 'BSC': 7748,\n",
       " 'ACP': 994,\n",
       " 'CX': 995,\n",
       " 'DIGS': 996,\n",
       " 'TAGR': 997,\n",
       " 'CPN': 998,\n",
       " 'CHC': 999,\n",
       " 'ZOOM': 5926,\n",
       " 'HAP': 1001,\n",
       " 'SPRTS': 1002,\n",
       " 'BRC': 4729,\n",
       " 'HNC': 1742,\n",
       " 'EBS': 1005,\n",
       " 'FUTC': 1006,\n",
       " 'OZC': 1007,\n",
       " 'CPS': 5568,\n",
       " 'GREXIT': 1009,\n",
       " 'FLAX': 1010,\n",
       " 'OFF': 1011,\n",
       " 'CHAO': 1012,\n",
       " '2BACCO': 1013,\n",
       " 'IBITS': 1014,\n",
       " 'SPEC': 3804,\n",
       " 'MDT': 2348,\n",
       " 'NOC': 1017,\n",
       " 'BIOS': 1018,\n",
       " 'MANNA': 1019,\n",
       " 'AXIOM': 1020,\n",
       " 'CHIP': 9079,\n",
       " 'BTU': 3737,\n",
       " 'EGD': 1023,\n",
       " 'CS': 2556,\n",
       " ...}"
      ]
     },
     "execution_count": 49,
     "metadata": {},
     "output_type": "execute_result"
    }
   ],
   "source": [
    "r.json()"
   ]
  },
  {
   "cell_type": "code",
   "execution_count": null,
   "metadata": {},
   "outputs": [],
   "source": []
  }
 ],
 "metadata": {
  "kernelspec": {
   "display_name": "Scientist",
   "language": "python",
   "name": "scientist"
  },
  "language_info": {
   "codemirror_mode": {
    "name": "ipython",
    "version": 3
   },
   "file_extension": ".py",
   "mimetype": "text/x-python",
   "name": "python",
   "nbconvert_exporter": "python",
   "pygments_lexer": "ipython3",
   "version": "3.8.10"
  },
  "toc": {
   "base_numbering": 1,
   "nav_menu": {},
   "number_sections": true,
   "sideBar": true,
   "skip_h1_title": true,
   "title_cell": "Table of Contents",
   "title_sidebar": "Contents",
   "toc_cell": false,
   "toc_position": {},
   "toc_section_display": true,
   "toc_window_display": false
  },
  "varInspector": {
   "cols": {
    "lenName": 16,
    "lenType": 16,
    "lenVar": 40
   },
   "kernels_config": {
    "python": {
     "delete_cmd_postfix": "",
     "delete_cmd_prefix": "del ",
     "library": "var_list.py",
     "varRefreshCmd": "print(var_dic_list())"
    },
    "r": {
     "delete_cmd_postfix": ") ",
     "delete_cmd_prefix": "rm(",
     "library": "var_list.r",
     "varRefreshCmd": "cat(var_dic_list()) "
    }
   },
   "types_to_exclude": [
    "module",
    "function",
    "builtin_function_or_method",
    "instance",
    "_Feature"
   ],
   "window_display": false
  }
 },
 "nbformat": 4,
 "nbformat_minor": 4
}
